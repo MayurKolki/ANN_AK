{
 "cells": [
  {
   "cell_type": "code",
   "execution_count": 1,
   "metadata": {},
   "outputs": [],
   "source": [
    "# In neural network, you cannot understand the basis why the decision was made e.g:- female, male recognition\n",
    "# it is a drawback:- 1. i/p -> Black Box -> o/p (nobody can understand what is going in the black box)\n",
    "#                    2. non-deterministic\n",
    "#                    3. you cannot understand the basis why the decision was made"
   ]
  },
  {
   "cell_type": "code",
   "execution_count": 3,
   "metadata": {},
   "outputs": [],
   "source": [
    "import pandas as pd\n",
    "import sklearn\n",
    "import matplotlib.pyplot as plt\n",
    "import numpy as np\n",
    "import seaborn as sns"
   ]
  },
  {
   "cell_type": "code",
   "execution_count": 2,
   "metadata": {},
   "outputs": [],
   "source": [
    "# Deep Learning\n",
    "# it is a specislized form of ML, that uses supervised/unsupervised technique to learn the patterns from the data. \n",
    "# it is similar to the structure and function of human nervous system, where the complex network interconnected computation\n",
    "# units work in pattern"
   ]
  },
  {
   "cell_type": "code",
   "execution_count": 3,
   "metadata": {},
   "outputs": [],
   "source": [
    "# Artificial Neural Network\n",
    "# ANN is a computing system made up of number of simple highly interconnected processiong elements which process information by \n",
    "# their dynamic state response to external inputs"
   ]
  },
  {
   "cell_type": "code",
   "execution_count": 4,
   "metadata": {},
   "outputs": [],
   "source": [
    "# any neural network will have atleast 3 layers\n",
    "# 1st i/p layer\n",
    "# 2nd hidden layer\n",
    "# 3rd o/p layer"
   ]
  },
  {
   "cell_type": "code",
   "execution_count": 5,
   "metadata": {},
   "outputs": [],
   "source": [
    "# convergence\n",
    "# it is stopping the model after getting less errors\n",
    "# criteria:- a. when errors are less b. when maximum errors are reached c. validation error starts increasing \n",
    "# d. learning rate becomes very less"
   ]
  },
  {
   "cell_type": "code",
   "execution_count": 6,
   "metadata": {},
   "outputs": [],
   "source": [
    "# cost function/loss function\n",
    "# e.g:- MSE, cross entropy\n",
    "# cost function is the collection of errors and our aim is to minimize it"
   ]
  },
  {
   "cell_type": "code",
   "execution_count": 7,
   "metadata": {},
   "outputs": [],
   "source": [
    "# gredient descent/SGD\n",
    "# it is an optimization algorithm used to optimize the cost function"
   ]
  },
  {
   "cell_type": "code",
   "execution_count": 1,
   "metadata": {},
   "outputs": [],
   "source": [
    "# overfitting \n",
    "# it is identified when the model works very good for train but not for test. Model is not generalized for future data.\n",
    "# In other words, it is trained in complex way\n",
    "# to overcome overfitting problem:-\n",
    "# 1. cross validation\n",
    "# 2. Dropout (randomly drop some % of the neurons)"
   ]
  },
  {
   "cell_type": "code",
   "execution_count": null,
   "metadata": {},
   "outputs": [],
   "source": [
    "# hyper-parameters:-\n",
    "# no. of neurons\n",
    "# hidden layers\n",
    "# epochs\n",
    "# learning rate\n",
    "# batch size\n",
    "# activation functions\n",
    "# drop out\n",
    "# learning rate decay\n",
    "# cross validation"
   ]
  },
  {
   "cell_type": "code",
   "execution_count": 2,
   "metadata": {},
   "outputs": [],
   "source": [
    "# Activation function\n",
    "# if the input is above a threshold only then you will get the output\n",
    "# if input is above a particular value only then it is considered to be significant\n",
    "# cost function for NN:- ReLU (Rectified Linear Units) (y=  x)\n",
    "# ReLU:- it converts linear i/p to non-linear i/p\n",
    "# other cost functions\n",
    "# 1. Sigmoid\n",
    "# 2. Softplus (newly introduced) it is softer than ReLU (y = 1+e^x)\n",
    "# 3. TanH (range -1 to +1)"
   ]
  },
  {
   "cell_type": "code",
   "execution_count": null,
   "metadata": {},
   "outputs": [],
   "source": [
    "# vanishing gradient descent\n",
    "# less learning rate--> less weight--> "
   ]
  },
  {
   "cell_type": "code",
   "execution_count": null,
   "metadata": {},
   "outputs": [],
   "source": [
    "# learning rate is always less than 1. e.g:- 0.001\n",
    "# learning rate is kept less because we do not want to miss the optimum point"
   ]
  },
  {
   "cell_type": "code",
   "execution_count": null,
   "metadata": {},
   "outputs": [],
   "source": [
    "# constant--> a parameter that never changes\n",
    "# placeholder--> permits a value to be assigned later e.g. 4x + 8, here 4 & 8 are constants and x is placeholder as its value \n",
    "# keep on changing\n",
    "# feed_dict parameter--> it is used to feed the values to the tensorflow placeholder"
   ]
  },
  {
   "cell_type": "markdown",
   "metadata": {},
   "source": [
    "## Relu"
   ]
  },
  {
   "cell_type": "code",
   "execution_count": 1,
   "metadata": {},
   "outputs": [],
   "source": [
    "def relu(z):\n",
    "    return np.maximum(0, z) # so it will return either 0 or any +ve value"
   ]
  },
  {
   "cell_type": "code",
   "execution_count": 5,
   "metadata": {},
   "outputs": [
    {
     "data": {
      "text/plain": [
       "array([-2.        , -1.91836735, -1.83673469, -1.75510204, -1.67346939,\n",
       "       -1.59183673, -1.51020408, -1.42857143, -1.34693878, -1.26530612,\n",
       "       -1.18367347, -1.10204082, -1.02040816, -0.93877551, -0.85714286,\n",
       "       -0.7755102 , -0.69387755, -0.6122449 , -0.53061224, -0.44897959,\n",
       "       -0.36734694, -0.28571429, -0.20408163, -0.12244898, -0.04081633,\n",
       "        0.04081633,  0.12244898,  0.20408163,  0.28571429,  0.36734694,\n",
       "        0.44897959,  0.53061224,  0.6122449 ,  0.69387755,  0.7755102 ,\n",
       "        0.85714286,  0.93877551,  1.02040816,  1.10204082,  1.18367347,\n",
       "        1.26530612,  1.34693878,  1.42857143,  1.51020408,  1.59183673,\n",
       "        1.67346939,  1.75510204,  1.83673469,  1.91836735,  2.        ])"
      ]
     },
     "execution_count": 5,
     "metadata": {},
     "output_type": "execute_result"
    }
   ],
   "source": [
    "z = np.linspace(-2, 2, 50)\n",
    "z"
   ]
  },
  {
   "cell_type": "code",
   "execution_count": 8,
   "metadata": {},
   "outputs": [
    {
     "data": {
      "text/plain": [
       "Text(0.5, 1.0, 'ReLU')"
      ]
     },
     "execution_count": 8,
     "metadata": {},
     "output_type": "execute_result"
    },
    {
     "data": {
      "image/png": "[encoded data removed]",
      "text/plain": [
       "<Figure size 576x576 with 1 Axes>"
      ]
     },
     "metadata": {
      "needs_background": "light"
     },
     "output_type": "display_data"
    }
   ],
   "source": [
    "plt.figure(figsize=(8, 8))\n",
    "plt.plot(z, relu(z), linewidth = 3)\n",
    "plt.xlabel(\"X value\", fontsize = 15)\n",
    "plt.ylabel(\"Y value\", fontsize = 15)\n",
    "plt.title(\"ReLU\", color = \"r\", fontsize = 20)"
   ]
  },
  {
   "cell_type": "markdown",
   "metadata": {},
   "source": [
    "## Softplus function"
   ]
  },
  {
   "cell_type": "code",
   "execution_count": 11,
   "metadata": {},
   "outputs": [
    {
     "data": {
      "text/plain": [
       "[<matplotlib.lines.Line2D at 0x297e6ed0ec8>]"
      ]
     },
     "execution_count": 11,
     "metadata": {},
     "output_type": "execute_result"
    },
    {
     "data": {
      "image/png": "[encoded data removed]",
      "text/plain": [
       "<Figure size 576x576 with 1 Axes>"
      ]
     },
     "metadata": {
      "needs_background": "light"
     },
     "output_type": "display_data"
    }
   ],
   "source": [
    "def softplus(z):\n",
    "    return np.log(1 + np.exp(z))\n",
    "\n",
    "z = np.linspace(-5, 2, 100)\n",
    "\n",
    "plt.figure(figsize=(8, 8))\n",
    "plt.axvline(x = 0.0, color = \"g\")\n",
    "plt.axhline(y = 0.0, color = \"g\")\n",
    "plt.plot(z, softplus(z), linewidth = 3)"
   ]
  },
  {
   "cell_type": "markdown",
   "metadata": {},
   "source": [
    "## Leaky Relu"
   ]
  },
  {
   "cell_type": "code",
   "execution_count": 4,
   "metadata": {},
   "outputs": [],
   "source": [
    "z = np.linspace(-10, 10 ,100)\n",
    "\n",
    "def leaky_relu(z):\n",
    "    global y\n",
    "    y = []\n",
    "    for i in z:\n",
    "        if i>0:\n",
    "            y.append(i)\n",
    "        else:\n",
    "            y.append(i*.01)\n",
    "\n",
    "# in leaky relu there is small slope for the negative values instead of the fixed values\n",
    "# slope is generally set to .01 but it can be changed as per the user replacement"
   ]
  },
  {
   "cell_type": "code",
   "execution_count": 5,
   "metadata": {},
   "outputs": [
    {
     "ename": "ValueError",
     "evalue": "x, y, and format string must not be None",
     "output_type": "error",
     "traceback": [
      "\u001b[1;31m---------------------------------------------------------------------------\u001b[0m",
      "\u001b[1;31mValueError\u001b[0m                                Traceback (most recent call last)",
      "\u001b[1;32m<ipython-input-5-7862f8729934>\u001b[0m in \u001b[0;36m<module>\u001b[1;34m\u001b[0m\n\u001b[0;32m      3\u001b[0m \u001b[0mplt\u001b[0m\u001b[1;33m.\u001b[0m\u001b[0maxvline\u001b[0m\u001b[1;33m(\u001b[0m\u001b[0mx\u001b[0m \u001b[1;33m=\u001b[0m \u001b[1;36m0.0\u001b[0m\u001b[1;33m,\u001b[0m \u001b[0mcolor\u001b[0m \u001b[1;33m=\u001b[0m \u001b[1;34m\"g\"\u001b[0m\u001b[1;33m)\u001b[0m\u001b[1;33m\u001b[0m\u001b[1;33m\u001b[0m\u001b[0m\n\u001b[0;32m      4\u001b[0m \u001b[0mplt\u001b[0m\u001b[1;33m.\u001b[0m\u001b[0maxhline\u001b[0m\u001b[1;33m(\u001b[0m\u001b[0my\u001b[0m \u001b[1;33m=\u001b[0m \u001b[1;36m0.0\u001b[0m\u001b[1;33m,\u001b[0m \u001b[0mcolor\u001b[0m \u001b[1;33m=\u001b[0m \u001b[1;34m\"g\"\u001b[0m\u001b[1;33m)\u001b[0m\u001b[1;33m\u001b[0m\u001b[1;33m\u001b[0m\u001b[0m\n\u001b[1;32m----> 5\u001b[1;33m \u001b[0mplt\u001b[0m\u001b[1;33m.\u001b[0m\u001b[0mplot\u001b[0m\u001b[1;33m(\u001b[0m\u001b[0mz\u001b[0m\u001b[1;33m,\u001b[0m \u001b[0mleaky_relu\u001b[0m\u001b[1;33m(\u001b[0m\u001b[0mz\u001b[0m\u001b[1;33m)\u001b[0m\u001b[1;33m,\u001b[0m \u001b[0mlinewidth\u001b[0m \u001b[1;33m=\u001b[0m \u001b[1;36m3\u001b[0m\u001b[1;33m)\u001b[0m\u001b[1;33m\u001b[0m\u001b[1;33m\u001b[0m\u001b[0m\n\u001b[0m\u001b[0;32m      6\u001b[0m \u001b[0mplt\u001b[0m\u001b[1;33m.\u001b[0m\u001b[0mtitle\u001b[0m\u001b[1;33m(\u001b[0m\u001b[1;34m\"Leaky Relu\"\u001b[0m\u001b[1;33m,\u001b[0m \u001b[0mfontsize\u001b[0m \u001b[1;33m=\u001b[0m \u001b[1;36m20\u001b[0m\u001b[1;33m)\u001b[0m\u001b[1;33m\u001b[0m\u001b[1;33m\u001b[0m\u001b[0m\n",
      "\u001b[1;32m~\\anaconda3\\lib\\site-packages\\matplotlib\\pyplot.py\u001b[0m in \u001b[0;36mplot\u001b[1;34m(scalex, scaley, data, *args, **kwargs)\u001b[0m\n\u001b[0;32m   2794\u001b[0m     return gca().plot(\n\u001b[0;32m   2795\u001b[0m         *args, scalex=scalex, scaley=scaley, **({\"data\": data} if data\n\u001b[1;32m-> 2796\u001b[1;33m         is not None else {}), **kwargs)\n\u001b[0m\u001b[0;32m   2797\u001b[0m \u001b[1;33m\u001b[0m\u001b[0m\n\u001b[0;32m   2798\u001b[0m \u001b[1;33m\u001b[0m\u001b[0m\n",
      "\u001b[1;32m~\\anaconda3\\lib\\site-packages\\matplotlib\\axes\\_axes.py\u001b[0m in \u001b[0;36mplot\u001b[1;34m(self, scalex, scaley, data, *args, **kwargs)\u001b[0m\n\u001b[0;32m   1663\u001b[0m         \"\"\"\n\u001b[0;32m   1664\u001b[0m         \u001b[0mkwargs\u001b[0m \u001b[1;33m=\u001b[0m \u001b[0mcbook\u001b[0m\u001b[1;33m.\u001b[0m\u001b[0mnormalize_kwargs\u001b[0m\u001b[1;33m(\u001b[0m\u001b[0mkwargs\u001b[0m\u001b[1;33m,\u001b[0m \u001b[0mmlines\u001b[0m\u001b[1;33m.\u001b[0m\u001b[0mLine2D\u001b[0m\u001b[1;33m.\u001b[0m\u001b[0m_alias_map\u001b[0m\u001b[1;33m)\u001b[0m\u001b[1;33m\u001b[0m\u001b[1;33m\u001b[0m\u001b[0m\n\u001b[1;32m-> 1665\u001b[1;33m         \u001b[0mlines\u001b[0m \u001b[1;33m=\u001b[0m \u001b[1;33m[\u001b[0m\u001b[1;33m*\u001b[0m\u001b[0mself\u001b[0m\u001b[1;33m.\u001b[0m\u001b[0m_get_lines\u001b[0m\u001b[1;33m(\u001b[0m\u001b[1;33m*\u001b[0m\u001b[0margs\u001b[0m\u001b[1;33m,\u001b[0m \u001b[0mdata\u001b[0m\u001b[1;33m=\u001b[0m\u001b[0mdata\u001b[0m\u001b[1;33m,\u001b[0m \u001b[1;33m**\u001b[0m\u001b[0mkwargs\u001b[0m\u001b[1;33m)\u001b[0m\u001b[1;33m]\u001b[0m\u001b[1;33m\u001b[0m\u001b[1;33m\u001b[0m\u001b[0m\n\u001b[0m\u001b[0;32m   1666\u001b[0m         \u001b[1;32mfor\u001b[0m \u001b[0mline\u001b[0m \u001b[1;32min\u001b[0m \u001b[0mlines\u001b[0m\u001b[1;33m:\u001b[0m\u001b[1;33m\u001b[0m\u001b[1;33m\u001b[0m\u001b[0m\n\u001b[0;32m   1667\u001b[0m             \u001b[0mself\u001b[0m\u001b[1;33m.\u001b[0m\u001b[0madd_line\u001b[0m\u001b[1;33m(\u001b[0m\u001b[0mline\u001b[0m\u001b[1;33m)\u001b[0m\u001b[1;33m\u001b[0m\u001b[1;33m\u001b[0m\u001b[0m\n",
      "\u001b[1;32m~\\anaconda3\\lib\\site-packages\\matplotlib\\axes\\_base.py\u001b[0m in \u001b[0;36m__call__\u001b[1;34m(self, *args, **kwargs)\u001b[0m\n\u001b[0;32m    223\u001b[0m                 \u001b[0mthis\u001b[0m \u001b[1;33m+=\u001b[0m \u001b[0margs\u001b[0m\u001b[1;33m[\u001b[0m\u001b[1;36m0\u001b[0m\u001b[1;33m]\u001b[0m\u001b[1;33m,\u001b[0m\u001b[1;33m\u001b[0m\u001b[1;33m\u001b[0m\u001b[0m\n\u001b[0;32m    224\u001b[0m                 \u001b[0margs\u001b[0m \u001b[1;33m=\u001b[0m \u001b[0margs\u001b[0m\u001b[1;33m[\u001b[0m\u001b[1;36m1\u001b[0m\u001b[1;33m:\u001b[0m\u001b[1;33m]\u001b[0m\u001b[1;33m\u001b[0m\u001b[1;33m\u001b[0m\u001b[0m\n\u001b[1;32m--> 225\u001b[1;33m             \u001b[1;32myield\u001b[0m \u001b[1;32mfrom\u001b[0m \u001b[0mself\u001b[0m\u001b[1;33m.\u001b[0m\u001b[0m_plot_args\u001b[0m\u001b[1;33m(\u001b[0m\u001b[0mthis\u001b[0m\u001b[1;33m,\u001b[0m \u001b[0mkwargs\u001b[0m\u001b[1;33m)\u001b[0m\u001b[1;33m\u001b[0m\u001b[1;33m\u001b[0m\u001b[0m\n\u001b[0m\u001b[0;32m    226\u001b[0m \u001b[1;33m\u001b[0m\u001b[0m\n\u001b[0;32m    227\u001b[0m     \u001b[1;32mdef\u001b[0m \u001b[0mget_next_color\u001b[0m\u001b[1;33m(\u001b[0m\u001b[0mself\u001b[0m\u001b[1;33m)\u001b[0m\u001b[1;33m:\u001b[0m\u001b[1;33m\u001b[0m\u001b[1;33m\u001b[0m\u001b[0m\n",
      "\u001b[1;32m~\\anaconda3\\lib\\site-packages\\matplotlib\\axes\\_base.py\u001b[0m in \u001b[0;36m_plot_args\u001b[1;34m(self, tup, kwargs)\u001b[0m\n\u001b[0;32m    375\u001b[0m         \u001b[1;31m# downstream.\u001b[0m\u001b[1;33m\u001b[0m\u001b[1;33m\u001b[0m\u001b[1;33m\u001b[0m\u001b[0m\n\u001b[0;32m    376\u001b[0m         \u001b[1;32mif\u001b[0m \u001b[0many\u001b[0m\u001b[1;33m(\u001b[0m\u001b[0mv\u001b[0m \u001b[1;32mis\u001b[0m \u001b[1;32mNone\u001b[0m \u001b[1;32mfor\u001b[0m \u001b[0mv\u001b[0m \u001b[1;32min\u001b[0m \u001b[0mtup\u001b[0m\u001b[1;33m)\u001b[0m\u001b[1;33m:\u001b[0m\u001b[1;33m\u001b[0m\u001b[1;33m\u001b[0m\u001b[0m\n\u001b[1;32m--> 377\u001b[1;33m             \u001b[1;32mraise\u001b[0m \u001b[0mValueError\u001b[0m\u001b[1;33m(\u001b[0m\u001b[1;34m\"x, y, and format string must not be None\"\u001b[0m\u001b[1;33m)\u001b[0m\u001b[1;33m\u001b[0m\u001b[1;33m\u001b[0m\u001b[0m\n\u001b[0m\u001b[0;32m    378\u001b[0m \u001b[1;33m\u001b[0m\u001b[0m\n\u001b[0;32m    379\u001b[0m         \u001b[0mkw\u001b[0m \u001b[1;33m=\u001b[0m \u001b[1;33m{\u001b[0m\u001b[1;33m}\u001b[0m\u001b[1;33m\u001b[0m\u001b[1;33m\u001b[0m\u001b[0m\n",
      "\u001b[1;31mValueError\u001b[0m: x, y, and format string must not be None"
     ]
    },
    {
     "data": {
      "image/png": "[encoded data removed]",
      "text/plain": [
       "<Figure size 576x576 with 1 Axes>"
      ]
     },
     "metadata": {
      "needs_background": "light"
     },
     "output_type": "display_data"
    }
   ],
   "source": [
    "leaky_relu(z)\n",
    "plt.figure(figsize=(8, 8))\n",
    "plt.axvline(x = 0.0, color = \"g\")\n",
    "plt.axhline(y = 0.0, color = \"g\")\n",
    "plt.plot(z, leaky_relu(z), linewidth = 3)\n",
    "plt.title(\"Leaky Relu\", fontsize = 20)"
   ]
  },
  {
   "cell_type": "markdown",
   "metadata": {},
   "source": [
    "## TanH"
   ]
  },
  {
   "cell_type": "code",
   "execution_count": 19,
   "metadata": {},
   "outputs": [
    {
     "data": {
      "text/plain": [
       "Text(0.5, 1.0, 'TanH')"
      ]
     },
     "execution_count": 19,
     "metadata": {},
     "output_type": "execute_result"
    },
    {
     "data": {
      "image/png": "[encoded data removed]",
      "text/plain": [
       "<Figure size 576x576 with 1 Axes>"
      ]
     },
     "metadata": {
      "needs_background": "light"
     },
     "output_type": "display_data"
    }
   ],
   "source": [
    "plt.figure(figsize=(8, 8))\n",
    "plt.axvline(x = 0.0, color = \"g\")\n",
    "plt.axhline(y = 0.0, color = \"g\")\n",
    "plt.axhline(y = -1, color = \"g\", linewidth = 5)\n",
    "plt.axhline(y = 1, color = \"g\", linewidth = 5)\n",
    "plt.plot(z, np.tanh(z), color = \"r\")\n",
    "plt.title(\"TanH\", fontsize = 20)"
   ]
  },
  {
   "cell_type": "markdown",
   "metadata": {},
   "source": [
    "## Sigmoid Function"
   ]
  },
  {
   "cell_type": "code",
   "execution_count": 21,
   "metadata": {},
   "outputs": [
    {
     "data": {
      "text/plain": [
       "Text(0.5, 1.0, 'Sigmoid Function')"
      ]
     },
     "execution_count": 21,
     "metadata": {},
     "output_type": "execute_result"
    },
    {
     "data": {
      "image/png": "[encoded data removed]",
      "text/plain": [
       "<Figure size 576x576 with 1 Axes>"
      ]
     },
     "metadata": {
      "needs_background": "light"
     },
     "output_type": "display_data"
    }
   ],
   "source": [
    "def logit(z):\n",
    "    return 1 / (1 + np.exp(-z))\n",
    "\n",
    "z = np.linspace(-10, 10, 100)\n",
    "\n",
    "plt.figure(figsize=(8, 8))\n",
    "plt.axvline(x = 0.0, color = \"g\")\n",
    "plt.axhline(y = 0.5, color = \"g\")\n",
    "plt.axhline(y = 0.0, color = \"g\", linewidth = 5)\n",
    "plt.axhline(y = 1, color = \"g\", linewidth = 5)\n",
    "plt.plot(z, logit(z), color = \"r\")\n",
    "plt.title(\"Sigmoid Function\", fontsize = 20)"
   ]
  },
  {
   "cell_type": "code",
   "execution_count": 2,
   "metadata": {},
   "outputs": [],
   "source": [
    "# Q. How many number of neurons can hidden layer have?\n",
    "# -> It is a hyperparameter. User have to define number of neurons in hidden layer\n",
    "# -> However, number of neurons in i/p layer is equal to the value of X (independent variable)"
   ]
  },
  {
   "cell_type": "code",
   "execution_count": 4,
   "metadata": {},
   "outputs": [],
   "source": [
    "# Back Propagation\n",
    "# back propagation of the error is a way of computing the gradients of expression through recursive"
   ]
  },
  {
   "cell_type": "code",
   "execution_count": 14,
   "metadata": {},
   "outputs": [
    {
     "name": "stderr",
     "output_type": "stream",
     "text": [
      "C:\\Users\\Ashish Kulkarni\\anaconda3\\lib\\site-packages\\tensorflow\\python\\framework\\dtypes.py:516: FutureWarning: Passing (type, 1) or '1type' as a synonym of type is deprecated; in a future version of numpy, it will be understood as (type, (1,)) / '(1,)type'.\n",
      "  _np_qint8 = np.dtype([(\"qint8\", np.int8, 1)])\n",
      "C:\\Users\\Ashish Kulkarni\\anaconda3\\lib\\site-packages\\tensorflow\\python\\framework\\dtypes.py:517: FutureWarning: Passing (type, 1) or '1type' as a synonym of type is deprecated; in a future version of numpy, it will be understood as (type, (1,)) / '(1,)type'.\n",
      "  _np_quint8 = np.dtype([(\"quint8\", np.uint8, 1)])\n",
      "C:\\Users\\Ashish Kulkarni\\anaconda3\\lib\\site-packages\\tensorflow\\python\\framework\\dtypes.py:518: FutureWarning: Passing (type, 1) or '1type' as a synonym of type is deprecated; in a future version of numpy, it will be understood as (type, (1,)) / '(1,)type'.\n",
      "  _np_qint16 = np.dtype([(\"qint16\", np.int16, 1)])\n",
      "C:\\Users\\Ashish Kulkarni\\anaconda3\\lib\\site-packages\\tensorflow\\python\\framework\\dtypes.py:519: FutureWarning: Passing (type, 1) or '1type' as a synonym of type is deprecated; in a future version of numpy, it will be understood as (type, (1,)) / '(1,)type'.\n",
      "  _np_quint16 = np.dtype([(\"quint16\", np.uint16, 1)])\n",
      "C:\\Users\\Ashish Kulkarni\\anaconda3\\lib\\site-packages\\tensorflow\\python\\framework\\dtypes.py:520: FutureWarning: Passing (type, 1) or '1type' as a synonym of type is deprecated; in a future version of numpy, it will be understood as (type, (1,)) / '(1,)type'.\n",
      "  _np_qint32 = np.dtype([(\"qint32\", np.int32, 1)])\n",
      "C:\\Users\\Ashish Kulkarni\\anaconda3\\lib\\site-packages\\tensorflow\\python\\framework\\dtypes.py:525: FutureWarning: Passing (type, 1) or '1type' as a synonym of type is deprecated; in a future version of numpy, it will be understood as (type, (1,)) / '(1,)type'.\n",
      "  np_resource = np.dtype([(\"resource\", np.ubyte, 1)])\n",
      "C:\\Users\\Ashish Kulkarni\\anaconda3\\lib\\site-packages\\tensorboard\\compat\\tensorflow_stub\\dtypes.py:541: FutureWarning: Passing (type, 1) or '1type' as a synonym of type is deprecated; in a future version of numpy, it will be understood as (type, (1,)) / '(1,)type'.\n",
      "  _np_qint8 = np.dtype([(\"qint8\", np.int8, 1)])\n",
      "C:\\Users\\Ashish Kulkarni\\anaconda3\\lib\\site-packages\\tensorboard\\compat\\tensorflow_stub\\dtypes.py:542: FutureWarning: Passing (type, 1) or '1type' as a synonym of type is deprecated; in a future version of numpy, it will be understood as (type, (1,)) / '(1,)type'.\n",
      "  _np_quint8 = np.dtype([(\"quint8\", np.uint8, 1)])\n",
      "C:\\Users\\Ashish Kulkarni\\anaconda3\\lib\\site-packages\\tensorboard\\compat\\tensorflow_stub\\dtypes.py:543: FutureWarning: Passing (type, 1) or '1type' as a synonym of type is deprecated; in a future version of numpy, it will be understood as (type, (1,)) / '(1,)type'.\n",
      "  _np_qint16 = np.dtype([(\"qint16\", np.int16, 1)])\n",
      "C:\\Users\\Ashish Kulkarni\\anaconda3\\lib\\site-packages\\tensorboard\\compat\\tensorflow_stub\\dtypes.py:544: FutureWarning: Passing (type, 1) or '1type' as a synonym of type is deprecated; in a future version of numpy, it will be understood as (type, (1,)) / '(1,)type'.\n",
      "  _np_quint16 = np.dtype([(\"quint16\", np.uint16, 1)])\n",
      "C:\\Users\\Ashish Kulkarni\\anaconda3\\lib\\site-packages\\tensorboard\\compat\\tensorflow_stub\\dtypes.py:545: FutureWarning: Passing (type, 1) or '1type' as a synonym of type is deprecated; in a future version of numpy, it will be understood as (type, (1,)) / '(1,)type'.\n",
      "  _np_qint32 = np.dtype([(\"qint32\", np.int32, 1)])\n",
      "C:\\Users\\Ashish Kulkarni\\anaconda3\\lib\\site-packages\\tensorboard\\compat\\tensorflow_stub\\dtypes.py:550: FutureWarning: Passing (type, 1) or '1type' as a synonym of type is deprecated; in a future version of numpy, it will be understood as (type, (1,)) / '(1,)type'.\n",
      "  np_resource = np.dtype([(\"resource\", np.ubyte, 1)])\n"
     ]
    },
    {
     "ename": "ImportError",
     "evalue": "Keras requires TensorFlow 2.2 or higher. Install TensorFlow via `pip install tensorflow`",
     "output_type": "error",
     "traceback": [
      "\u001b[1;31m---------------------------------------------------------------------------\u001b[0m",
      "\u001b[1;31mModuleNotFoundError\u001b[0m                       Traceback (most recent call last)",
      "\u001b[1;32m~\\anaconda3\\lib\\site-packages\\keras\\__init__.py\u001b[0m in \u001b[0;36m<module>\u001b[1;34m\u001b[0m\n\u001b[0;32m      2\u001b[0m \u001b[1;32mtry\u001b[0m\u001b[1;33m:\u001b[0m\u001b[1;33m\u001b[0m\u001b[1;33m\u001b[0m\u001b[0m\n\u001b[1;32m----> 3\u001b[1;33m     \u001b[1;32mfrom\u001b[0m \u001b[0mtensorflow\u001b[0m\u001b[1;33m.\u001b[0m\u001b[0mkeras\u001b[0m\u001b[1;33m.\u001b[0m\u001b[0mlayers\u001b[0m\u001b[1;33m.\u001b[0m\u001b[0mexperimental\u001b[0m\u001b[1;33m.\u001b[0m\u001b[0mpreprocessing\u001b[0m \u001b[1;32mimport\u001b[0m \u001b[0mRandomRotation\u001b[0m\u001b[1;33m\u001b[0m\u001b[1;33m\u001b[0m\u001b[0m\n\u001b[0m\u001b[0;32m      4\u001b[0m \u001b[1;32mexcept\u001b[0m \u001b[0mImportError\u001b[0m\u001b[1;33m:\u001b[0m\u001b[1;33m\u001b[0m\u001b[1;33m\u001b[0m\u001b[0m\n",
      "\u001b[1;31mModuleNotFoundError\u001b[0m: No module named 'tensorflow.keras.layers.experimental.preprocessing'",
      "\nDuring handling of the above exception, another exception occurred:\n",
      "\u001b[1;31mImportError\u001b[0m                               Traceback (most recent call last)",
      "\u001b[1;32m<ipython-input-14-b43a7448af40>\u001b[0m in \u001b[0;36m<module>\u001b[1;34m\u001b[0m\n\u001b[0;32m      1\u001b[0m \u001b[1;32mimport\u001b[0m \u001b[0mtensorflow\u001b[0m \u001b[1;32mas\u001b[0m \u001b[0mtf\u001b[0m\u001b[1;33m\u001b[0m\u001b[1;33m\u001b[0m\u001b[0m\n\u001b[1;32m----> 2\u001b[1;33m \u001b[1;32mimport\u001b[0m \u001b[0mkeras\u001b[0m\u001b[1;33m\u001b[0m\u001b[1;33m\u001b[0m\u001b[0m\n\u001b[0m",
      "\u001b[1;32m~\\anaconda3\\lib\\site-packages\\keras\\__init__.py\u001b[0m in \u001b[0;36m<module>\u001b[1;34m\u001b[0m\n\u001b[0;32m      4\u001b[0m \u001b[1;32mexcept\u001b[0m \u001b[0mImportError\u001b[0m\u001b[1;33m:\u001b[0m\u001b[1;33m\u001b[0m\u001b[1;33m\u001b[0m\u001b[0m\n\u001b[0;32m      5\u001b[0m     raise ImportError(\n\u001b[1;32m----> 6\u001b[1;33m         \u001b[1;34m'Keras requires TensorFlow 2.2 or higher. '\u001b[0m\u001b[1;33m\u001b[0m\u001b[1;33m\u001b[0m\u001b[0m\n\u001b[0m\u001b[0;32m      7\u001b[0m         'Install TensorFlow via `pip install tensorflow`')\n\u001b[0;32m      8\u001b[0m \u001b[1;33m\u001b[0m\u001b[0m\n",
      "\u001b[1;31mImportError\u001b[0m: Keras requires TensorFlow 2.2 or higher. Install TensorFlow via `pip install tensorflow`"
     ]
    }
   ],
   "source": [
    "import tensorflow as tf\n",
    "import keras"
   ]
  },
  {
   "cell_type": "code",
   "execution_count": 29,
   "metadata": {},
   "outputs": [
    {
     "data": {
      "text/plain": [
       "'1.14.0'"
      ]
     },
     "execution_count": 29,
     "metadata": {},
     "output_type": "execute_result"
    }
   ],
   "source": [
    "tf.__version__  # version should be above 1.10"
   ]
  },
  {
   "cell_type": "code",
   "execution_count": 30,
   "metadata": {},
   "outputs": [
    {
     "ename": "NameError",
     "evalue": "name 'keras' is not defined",
     "output_type": "error",
     "traceback": [
      "\u001b[1;31m---------------------------------------------------------------------------\u001b[0m",
      "\u001b[1;31mNameError\u001b[0m                                 Traceback (most recent call last)",
      "\u001b[1;32m<ipython-input-30-c7a5ce14c42d>\u001b[0m in \u001b[0;36m<module>\u001b[1;34m\u001b[0m\n\u001b[1;32m----> 1\u001b[1;33m \u001b[0mkeras\u001b[0m\u001b[1;33m.\u001b[0m\u001b[0m__version_\u001b[0m    \u001b[1;31m# version should be above 2.2\u001b[0m\u001b[1;33m\u001b[0m\u001b[1;33m\u001b[0m\u001b[0m\n\u001b[0m",
      "\u001b[1;31mNameError\u001b[0m: name 'keras' is not defined"
     ]
    }
   ],
   "source": [
    "keras.__version_    # version should be above 2.2"
   ]
  },
  {
   "cell_type": "code",
   "execution_count": null,
   "metadata": {},
   "outputs": [],
   "source": [
    "# ! pip uninstall tensorflow"
   ]
  },
  {
   "cell_type": "markdown",
   "metadata": {},
   "source": [
    "### Low level api for regression"
   ]
  },
  {
   "cell_type": "code",
   "execution_count": 2,
   "metadata": {},
   "outputs": [],
   "source": [
    "import tensorflow as tf\n",
    "import pandas as pd\n",
    "import sklearn\n",
    "import matplotlib.pyplot as plt\n",
    "import numpy as np\n",
    "import seaborn as sns"
   ]
  },
  {
   "cell_type": "code",
   "execution_count": 3,
   "metadata": {},
   "outputs": [],
   "source": [
    "hi = tf.constant(\"Hello everyonev\")"
   ]
  },
  {
   "cell_type": "code",
   "execution_count": 4,
   "metadata": {},
   "outputs": [
    {
     "data": {
      "text/plain": [
       "tensorflow.python.framework.ops.Tensor"
      ]
     },
     "execution_count": 4,
     "metadata": {},
     "output_type": "execute_result"
    }
   ],
   "source": [
    "type(hi)"
   ]
  },
  {
   "cell_type": "code",
   "execution_count": 5,
   "metadata": {},
   "outputs": [
    {
     "data": {
      "text/plain": [
       "tensorflow.python.framework.ops.Tensor"
      ]
     },
     "execution_count": 5,
     "metadata": {},
     "output_type": "execute_result"
    }
   ],
   "source": [
    "num = tf.constant(200)\n",
    "type(num)"
   ]
  },
  {
   "cell_type": "code",
   "execution_count": 6,
   "metadata": {},
   "outputs": [
    {
     "name": "stdout",
     "output_type": "stream",
     "text": [
      "Tensor(\"Const_1:0\", shape=(), dtype=int32)\n",
      "Tensor(\"Const:0\", shape=(), dtype=string)\n"
     ]
    }
   ],
   "source": [
    "print(num)\n",
    "print(hi)"
   ]
  },
  {
   "cell_type": "code",
   "execution_count": 7,
   "metadata": {},
   "outputs": [],
   "source": [
    "sess = tf.Session()  # tensorflow session created"
   ]
  },
  {
   "cell_type": "code",
   "execution_count": 8,
   "metadata": {},
   "outputs": [
    {
     "data": {
      "text/plain": [
       "200"
      ]
     },
     "execution_count": 8,
     "metadata": {},
     "output_type": "execute_result"
    }
   ],
   "source": [
    "sess.run(num)"
   ]
  },
  {
   "cell_type": "code",
   "execution_count": 9,
   "metadata": {},
   "outputs": [
    {
     "data": {
      "text/plain": [
       "b'Hello everyonev'"
      ]
     },
     "execution_count": 9,
     "metadata": {},
     "output_type": "execute_result"
    }
   ],
   "source": [
    "sess.run(hi)"
   ]
  },
  {
   "cell_type": "code",
   "execution_count": 10,
   "metadata": {},
   "outputs": [
    {
     "data": {
      "text/plain": [
       "numpy.int32"
      ]
     },
     "execution_count": 10,
     "metadata": {},
     "output_type": "execute_result"
    }
   ],
   "source": [
    "type(sess.run(num))"
   ]
  },
  {
   "cell_type": "code",
   "execution_count": 11,
   "metadata": {},
   "outputs": [],
   "source": [
    "var1 = tf.constant(20)\n",
    "var2 = tf.constant(40)"
   ]
  },
  {
   "cell_type": "code",
   "execution_count": 12,
   "metadata": {},
   "outputs": [],
   "source": [
    "def standardize(tr):\n",
    "    tr_std = (tr-np.mean(tr, axis = 0)) / np.std(tr, axis = 0)\n",
    "    return(tr_std)"
   ]
  },
  {
   "cell_type": "code",
   "execution_count": 13,
   "metadata": {},
   "outputs": [],
   "source": [
    "def loss_cal(pred, actual):               # this function is used to calculate the loss\n",
    "    mse = np.mean((pred - actual)) ** 2\n",
    "    return(mse)"
   ]
  },
  {
   "cell_type": "code",
   "execution_count": 14,
   "metadata": {},
   "outputs": [],
   "source": [
    "def forward_pass(samples, coefs, intercept):\n",
    "    out = np.matmul(sample, coefs) + intercept\n",
    "    return(out)\n",
    "# intercept here is bias...this function replicates what happens during the forword propagation\n",
    "# or you can say how the model is trained\n",
    "# this is used for the prediction also"
   ]
  },
  {
   "cell_type": "code",
   "execution_count": 15,
   "metadata": {},
   "outputs": [],
   "source": [
    "def gradients (X, y, coefs, intercepts):\n",
    "    y_hat = forward_pass(X,  coefs, intercept)\n",
    "    err = (y_hat - y)\n",
    "    coefs_grad = np.dot(X.T, err)\n",
    "    intercept_grad = np.sum(y_hat - y)\n",
    "    return(coefs_grad, intercept_grad)"
   ]
  },
  {
   "cell_type": "code",
   "execution_count": 16,
   "metadata": {},
   "outputs": [],
   "source": [
    "batch_size = 32     # defining the few parameters\n",
    "lr = 0.001\n",
    "decay = 0.05\n",
    "epochs = 10"
   ]
  },
  {
   "cell_type": "code",
   "execution_count": 17,
   "metadata": {},
   "outputs": [],
   "source": [
    "lcn = pd.read_csv(r\"C:\\Users\\Ashish Kulkarni\\Desktop\\Data Science\\Python\\Programs\\Linear Regression\\LungCapData.csv\")\n",
    "lcn = lcn.sample(frac = 1)     # to shuffle the data"
   ]
  },
  {
   "cell_type": "code",
   "execution_count": 18,
   "metadata": {},
   "outputs": [],
   "source": [
    "lcn.replace({\"Smoke\" : {\"no\" : 0, \"yes\" : 1},\n",
    "            \"Gender\" : {\"female\": 0, \"male\" : 1},\n",
    "            \"Caesarean\" : {\"no\" : 0, \"yes\" : 1}}, inplace = True)"
   ]
  },
  {
   "cell_type": "code",
   "execution_count": 19,
   "metadata": {},
   "outputs": [],
   "source": [
    "lcn_x = lcn.iloc[ : , 1 : ]\n",
    "lcn_y = lcn.iloc[ : , 0 ]"
   ]
  },
  {
   "cell_type": "code",
   "execution_count": 20,
   "metadata": {},
   "outputs": [],
   "source": [
    "lcn_x = standardize(lcn_x)"
   ]
  },
  {
   "cell_type": "code",
   "execution_count": 21,
   "metadata": {},
   "outputs": [],
   "source": [
    "lcn_x = np.array(lcn_x)\n",
    "lcn_y = np.array(lcn_y)"
   ]
  },
  {
   "cell_type": "code",
   "execution_count": 22,
   "metadata": {},
   "outputs": [
    {
     "ename": "IndentationError",
     "evalue": "expected an indented block (<ipython-input-22-1f0e3f7e5958>, line 12)",
     "output_type": "error",
     "traceback": [
      "\u001b[1;36m  File \u001b[1;32m\"<ipython-input-22-1f0e3f7e5958>\"\u001b[1;36m, line \u001b[1;32m12\u001b[0m\n\u001b[1;33m    start = j*batch_size\u001b[0m\n\u001b[1;37m        ^\u001b[0m\n\u001b[1;31mIndentationError\u001b[0m\u001b[1;31m:\u001b[0m expected an indented block\n"
     ]
    }
   ],
   "source": [
    "dims = lcn_x.shape[1]\n",
    "coefs = np.random.normal(size = [dims, 1], loc = 0)   # defining some initial value of coefs (weights)\n",
    "intercept = -0.001\n",
    "for i in range(epoch):\n",
    "    X_data = standarize(lcn_x)\n",
    "    y_data = lcn_y\n",
    "    \n",
    "    n - X_data.shape[0]     # n = number of rows\n",
    "    train_loss = []\n",
    "    val_loss = []\n",
    "    for j in range((n// batch_size) + 1):  # n is nu. of records, since few records will be left so we add please 1\n",
    "    start = j*batch_size\n",
    "    ent = min((j + 1) * 32, n)\n",
    "    X_train = X_data[start:end]\n",
    "    y_train = y_data[start:end].reshape(end-start, -1)\n",
    "    \n",
    "    coefs_grad, intercept_grad = gradients(X_train, y_train, coefs, intercept)\n",
    "    coefs -= lr*coefs_grad     # you are updating the coefs and updation rule is coef = coef - learning_rate * gradient\n",
    "    intercept -= lr*intercept    # updating bias\n",
    "    \n",
    "    y_hat_data = forward_pass(X_data, coefs, intercept)\n",
    "    l = loss_cal(y_hat_data, y_data)       # calculating train loss\n",
    "    train_loss.append(l)\n",
    "    \n",
    "    print(\"Epochs is --> \", i,\n",
    "          \"Train loss is --> \", np.mean(train_loss))\n",
    "    lr *= 1 - decay        # learning rate = learning rate * (1 - decay)"
   ]
  },
  {
   "cell_type": "code",
   "execution_count": null,
   "metadata": {},
   "outputs": [],
   "source": [
    "# if the errors are increasing then it is case of exploding gradient descend\n",
    "# in such cases, learning rate is very high\n",
    "# this occures when you do not standardize"
   ]
  },
  {
   "cell_type": "code",
   "execution_count": 23,
   "metadata": {},
   "outputs": [
    {
     "ename": "NameError",
     "evalue": "name 'coefs' is not defined",
     "output_type": "error",
     "traceback": [
      "\u001b[1;31m---------------------------------------------------------------------------\u001b[0m",
      "\u001b[1;31mNameError\u001b[0m                                 Traceback (most recent call last)",
      "\u001b[1;32m<ipython-input-23-9ff641c40ded>\u001b[0m in \u001b[0;36m<module>\u001b[1;34m\u001b[0m\n\u001b[1;32m----> 1\u001b[1;33m \u001b[0mpred_value\u001b[0m \u001b[1;33m=\u001b[0m \u001b[0mforward_pass\u001b[0m\u001b[1;33m(\u001b[0m\u001b[0mlcn_x\u001b[0m\u001b[1;33m,\u001b[0m \u001b[0mcoefs\u001b[0m\u001b[1;33m,\u001b[0m \u001b[0mintercept\u001b[0m\u001b[1;33m)\u001b[0m\u001b[1;33m\u001b[0m\u001b[1;33m\u001b[0m\u001b[0m\n\u001b[0m\u001b[0;32m      2\u001b[0m \u001b[0mpred_value\u001b[0m\u001b[1;33m\u001b[0m\u001b[1;33m\u001b[0m\u001b[0m\n",
      "\u001b[1;31mNameError\u001b[0m: name 'coefs' is not defined"
     ]
    }
   ],
   "source": [
    "pred_value = forward_pass(lcn_x, coefs, intercept)\n",
    "pred_value"
   ]
  },
  {
   "cell_type": "code",
   "execution_count": null,
   "metadata": {},
   "outputs": [],
   "source": [
    "pred_act_df = pd.DataFrame({\"Predicted\" : pred_value[:0], \"Actual\" : lcn_y})"
   ]
  },
  {
   "cell_type": "code",
   "execution_count": null,
   "metadata": {},
   "outputs": [],
   "source": [
    "# revise the theory\n",
    "# build a model on property price dataset"
   ]
  },
  {
   "cell_type": "markdown",
   "metadata": {},
   "source": [
    "### High level api for regression"
   ]
  },
  {
   "cell_type": "code",
   "execution_count": 24,
   "metadata": {},
   "outputs": [],
   "source": [
    "x = tf.placeholder(dtype = tf.float32)\n",
    "w = tf.Variable(initial_value = tf.random_normal(mean = 0, stddev = .1, shape = [5,1]))\n",
    "b = tf.Variable(initial_value = -0.1)\n",
    "y_hat = tf.matmul(x,w) + b"
   ]
  },
  {
   "cell_type": "code",
   "execution_count": 31,
   "metadata": {},
   "outputs": [],
   "source": [
    "y = tf.placeholder(dtype = tf.float32)\n",
    "loss = tf.reduce_mean((y - y_hat)**2)     #mse\n",
    "optim = tf.train.GradientDescentOptimizer(learning_rate = .001)    # learning rate should be low, if not, error will increase  \n",
    "train = optim.minimize(loss)"
   ]
  },
  {
   "cell_type": "code",
   "execution_count": 32,
   "metadata": {},
   "outputs": [
    {
     "name": "stdout",
     "output_type": "stream",
     "text": [
      "Epoch is  0  ||  loss is  70.26961\n",
      "Epoch is  1  ||  loss is  70.01708\n",
      "Epoch is  2  ||  loss is  69.76554\n",
      "Epoch is  3  ||  loss is  69.51503\n",
      "Epoch is  4  ||  loss is  69.26551\n",
      "Epoch is  5  ||  loss is  69.01699\n",
      "Epoch is  6  ||  loss is  68.769455\n",
      "Epoch is  7  ||  loss is  68.52291\n",
      "Epoch is  8  ||  loss is  68.27736\n",
      "Epoch is  9  ||  loss is  68.03279\n",
      "Epoch is  10  ||  loss is  67.789185\n",
      "Epoch is  11  ||  loss is  67.54657\n",
      "Epoch is  12  ||  loss is  67.30491\n",
      "Epoch is  13  ||  loss is  67.064224\n",
      "Epoch is  14  ||  loss is  66.8245\n",
      "Epoch is  15  ||  loss is  66.58574\n",
      "Epoch is  16  ||  loss is  66.34792\n",
      "Epoch is  17  ||  loss is  66.11106\n",
      "Epoch is  18  ||  loss is  65.875145\n",
      "Epoch is  19  ||  loss is  65.64017\n",
      "Epoch is  20  ||  loss is  65.406136\n",
      "Epoch is  21  ||  loss is  65.17304\n",
      "Epoch is  22  ||  loss is  64.94087\n",
      "Epoch is  23  ||  loss is  64.70963\n",
      "Epoch is  24  ||  loss is  64.479324\n",
      "Epoch is  25  ||  loss is  64.24992\n",
      "Epoch is  26  ||  loss is  64.02145\n",
      "Epoch is  27  ||  loss is  63.793888\n",
      "Epoch is  28  ||  loss is  63.56723\n",
      "Epoch is  29  ||  loss is  63.34148\n",
      "Epoch is  30  ||  loss is  63.11664\n",
      "Epoch is  31  ||  loss is  62.892685\n",
      "Epoch is  32  ||  loss is  62.669636\n",
      "Epoch is  33  ||  loss is  62.447475\n",
      "Epoch is  34  ||  loss is  62.2262\n",
      "Epoch is  35  ||  loss is  62.005814\n",
      "Epoch is  36  ||  loss is  61.786304\n",
      "Epoch is  37  ||  loss is  61.56767\n",
      "Epoch is  38  ||  loss is  61.34992\n",
      "Epoch is  39  ||  loss is  61.13303\n",
      "Epoch is  40  ||  loss is  60.91701\n",
      "Epoch is  41  ||  loss is  60.701855\n",
      "Epoch is  42  ||  loss is  60.487556\n",
      "Epoch is  43  ||  loss is  60.27412\n",
      "Epoch is  44  ||  loss is  60.06153\n",
      "Epoch is  45  ||  loss is  59.84979\n",
      "Epoch is  46  ||  loss is  59.6389\n",
      "Epoch is  47  ||  loss is  59.428852\n",
      "Epoch is  48  ||  loss is  59.219643\n",
      "Epoch is  49  ||  loss is  59.011272\n",
      "Epoch is  50  ||  loss is  58.803734\n",
      "Epoch is  51  ||  loss is  58.597015\n",
      "Epoch is  52  ||  loss is  58.391136\n",
      "Epoch is  53  ||  loss is  58.186077\n",
      "Epoch is  54  ||  loss is  57.98183\n",
      "Epoch is  55  ||  loss is  57.778404\n",
      "Epoch is  56  ||  loss is  57.57579\n",
      "Epoch is  57  ||  loss is  57.373985\n",
      "Epoch is  58  ||  loss is  57.17299\n",
      "Epoch is  59  ||  loss is  56.9728\n",
      "Epoch is  60  ||  loss is  56.773407\n",
      "Epoch is  61  ||  loss is  56.574806\n",
      "Epoch is  62  ||  loss is  56.377007\n",
      "Epoch is  63  ||  loss is  56.179996\n",
      "Epoch is  64  ||  loss is  55.983772\n",
      "Epoch is  65  ||  loss is  55.78833\n",
      "Epoch is  66  ||  loss is  55.593674\n",
      "Epoch is  67  ||  loss is  55.39979\n",
      "Epoch is  68  ||  loss is  55.20668\n",
      "Epoch is  69  ||  loss is  55.014347\n",
      "Epoch is  70  ||  loss is  54.822784\n",
      "Epoch is  71  ||  loss is  54.631985\n",
      "Epoch is  72  ||  loss is  54.441948\n",
      "Epoch is  73  ||  loss is  54.252666\n",
      "Epoch is  74  ||  loss is  54.06414\n",
      "Epoch is  75  ||  loss is  53.876373\n",
      "Epoch is  76  ||  loss is  53.68935\n",
      "Epoch is  77  ||  loss is  53.503086\n",
      "Epoch is  78  ||  loss is  53.31756\n",
      "Epoch is  79  ||  loss is  53.13278\n",
      "Epoch is  80  ||  loss is  52.94873\n",
      "Epoch is  81  ||  loss is  52.76542\n",
      "Epoch is  82  ||  loss is  52.58284\n",
      "Epoch is  83  ||  loss is  52.400993\n",
      "Epoch is  84  ||  loss is  52.219868\n",
      "Epoch is  85  ||  loss is  52.039474\n",
      "Epoch is  86  ||  loss is  51.859795\n",
      "Epoch is  87  ||  loss is  51.680832\n",
      "Epoch is  88  ||  loss is  51.502598\n",
      "Epoch is  89  ||  loss is  51.32506\n",
      "Epoch is  90  ||  loss is  51.148243\n",
      "Epoch is  91  ||  loss is  50.972126\n",
      "Epoch is  92  ||  loss is  50.79671\n",
      "Epoch is  93  ||  loss is  50.622005\n",
      "Epoch is  94  ||  loss is  50.447994\n",
      "Epoch is  95  ||  loss is  50.274673\n",
      "Epoch is  96  ||  loss is  50.102055\n",
      "Epoch is  97  ||  loss is  49.930122\n",
      "Epoch is  98  ||  loss is  49.758873\n",
      "Epoch is  99  ||  loss is  49.58831\n",
      "Epoch is  100  ||  loss is  49.41843\n",
      "Epoch is  101  ||  loss is  49.24923\n",
      "Epoch is  102  ||  loss is  49.080704\n",
      "Epoch is  103  ||  loss is  48.912853\n",
      "Epoch is  104  ||  loss is  48.745674\n",
      "Epoch is  105  ||  loss is  48.579155\n",
      "Epoch is  106  ||  loss is  48.413315\n",
      "Epoch is  107  ||  loss is  48.248123\n",
      "Epoch is  108  ||  loss is  48.083603\n",
      "Epoch is  109  ||  loss is  47.919735\n",
      "Epoch is  110  ||  loss is  47.75652\n",
      "Epoch is  111  ||  loss is  47.59396\n",
      "Epoch is  112  ||  loss is  47.432053\n",
      "Epoch is  113  ||  loss is  47.27079\n",
      "Epoch is  114  ||  loss is  47.11017\n",
      "Epoch is  115  ||  loss is  46.950195\n",
      "Epoch is  116  ||  loss is  46.790855\n",
      "Epoch is  117  ||  loss is  46.632156\n",
      "Epoch is  118  ||  loss is  46.47409\n",
      "Epoch is  119  ||  loss is  46.31665\n",
      "Epoch is  120  ||  loss is  46.159843\n",
      "Epoch is  121  ||  loss is  46.003674\n",
      "Epoch is  122  ||  loss is  45.848114\n",
      "Epoch is  123  ||  loss is  45.693184\n",
      "Epoch is  124  ||  loss is  45.538864\n",
      "Epoch is  125  ||  loss is  45.38517\n",
      "Epoch is  126  ||  loss is  45.232086\n",
      "Epoch is  127  ||  loss is  45.079613\n",
      "Epoch is  128  ||  loss is  44.927753\n",
      "Epoch is  129  ||  loss is  44.7765\n",
      "Epoch is  130  ||  loss is  44.62585\n",
      "Epoch is  131  ||  loss is  44.475803\n",
      "Epoch is  132  ||  loss is  44.326347\n",
      "Epoch is  133  ||  loss is  44.177498\n",
      "Epoch is  134  ||  loss is  44.029243\n",
      "Epoch is  135  ||  loss is  43.88158\n",
      "Epoch is  136  ||  loss is  43.7345\n",
      "Epoch is  137  ||  loss is  43.588013\n",
      "Epoch is  138  ||  loss is  43.442112\n",
      "Epoch is  139  ||  loss is  43.2968\n",
      "Epoch is  140  ||  loss is  43.152065\n",
      "Epoch is  141  ||  loss is  43.0079\n",
      "Epoch is  142  ||  loss is  42.864323\n",
      "Epoch is  143  ||  loss is  42.721313\n",
      "Epoch is  144  ||  loss is  42.578873\n",
      "Epoch is  145  ||  loss is  42.437008\n",
      "Epoch is  146  ||  loss is  42.295704\n",
      "Epoch is  147  ||  loss is  42.154972\n",
      "Epoch is  148  ||  loss is  42.014797\n",
      "Epoch is  149  ||  loss is  41.875183\n",
      "Epoch is  150  ||  loss is  41.736126\n",
      "Epoch is  151  ||  loss is  41.59763\n",
      "Epoch is  152  ||  loss is  41.459682\n",
      "Epoch is  153  ||  loss is  41.32229\n",
      "Epoch is  154  ||  loss is  41.185448\n",
      "Epoch is  155  ||  loss is  41.049145\n",
      "Epoch is  156  ||  loss is  40.913387\n",
      "Epoch is  157  ||  loss is  40.778183\n",
      "Epoch is  158  ||  loss is  40.64351\n",
      "Epoch is  159  ||  loss is  40.509373\n",
      "Epoch is  160  ||  loss is  40.37578\n",
      "Epoch is  161  ||  loss is  40.242714\n",
      "Epoch is  162  ||  loss is  40.110184\n",
      "Epoch is  163  ||  loss is  39.978184\n",
      "Epoch is  164  ||  loss is  39.846703\n",
      "Epoch is  165  ||  loss is  39.71576\n",
      "Epoch is  166  ||  loss is  39.58533\n",
      "Epoch is  167  ||  loss is  39.45543\n",
      "Epoch is  168  ||  loss is  39.326042\n",
      "Epoch is  169  ||  loss is  39.197174\n",
      "Epoch is  170  ||  loss is  39.06882\n",
      "Epoch is  171  ||  loss is  38.940983\n",
      "Epoch is  172  ||  loss is  38.81365\n",
      "Epoch is  173  ||  loss is  38.686832\n",
      "Epoch is  174  ||  loss is  38.560516\n",
      "Epoch is  175  ||  loss is  38.434708\n",
      "Epoch is  176  ||  loss is  38.309402\n",
      "Epoch is  177  ||  loss is  38.1846\n",
      "Epoch is  178  ||  loss is  38.060295\n",
      "Epoch is  179  ||  loss is  37.93648\n",
      "Epoch is  180  ||  loss is  37.813168\n",
      "Epoch is  181  ||  loss is  37.690346\n",
      "Epoch is  182  ||  loss is  37.568012\n",
      "Epoch is  183  ||  loss is  37.44617\n",
      "Epoch is  184  ||  loss is  37.324814\n",
      "Epoch is  185  ||  loss is  37.203945\n",
      "Epoch is  186  ||  loss is  37.083557\n",
      "Epoch is  187  ||  loss is  36.96365\n",
      "Epoch is  188  ||  loss is  36.844223\n",
      "Epoch is  189  ||  loss is  36.72527\n",
      "Epoch is  190  ||  loss is  36.606796\n",
      "Epoch is  191  ||  loss is  36.488796\n",
      "Epoch is  192  ||  loss is  36.371265\n",
      "Epoch is  193  ||  loss is  36.254204\n",
      "Epoch is  194  ||  loss is  36.137615\n",
      "Epoch is  195  ||  loss is  36.02149\n",
      "Epoch is  196  ||  loss is  35.905827\n",
      "Epoch is  197  ||  loss is  35.790627\n",
      "Epoch is  198  ||  loss is  35.675884\n",
      "Epoch is  199  ||  loss is  35.561604\n",
      "Epoch is  200  ||  loss is  35.44778\n",
      "Epoch is  201  ||  loss is  35.33441\n",
      "Epoch is  202  ||  loss is  35.221497\n",
      "Epoch is  203  ||  loss is  35.109035\n",
      "Epoch is  204  ||  loss is  34.997017\n",
      "Epoch is  205  ||  loss is  34.88545\n",
      "Epoch is  206  ||  loss is  34.774326\n",
      "Epoch is  207  ||  loss is  34.66365\n",
      "Epoch is  208  ||  loss is  34.553417\n",
      "Epoch is  209  ||  loss is  34.44362\n",
      "Epoch is  210  ||  loss is  34.334267\n",
      "Epoch is  211  ||  loss is  34.22534\n",
      "Epoch is  212  ||  loss is  34.116863\n",
      "Epoch is  213  ||  loss is  34.008816\n",
      "Epoch is  214  ||  loss is  33.901196\n",
      "Epoch is  215  ||  loss is  33.79401\n",
      "Epoch is  216  ||  loss is  33.68725\n",
      "Epoch is  217  ||  loss is  33.58091\n",
      "Epoch is  218  ||  loss is  33.475002\n",
      "Epoch is  219  ||  loss is  33.369514\n",
      "Epoch is  220  ||  loss is  33.264454\n",
      "Epoch is  221  ||  loss is  33.15981\n",
      "Epoch is  222  ||  loss is  33.05558\n",
      "Epoch is  223  ||  loss is  32.951775\n",
      "Epoch is  224  ||  loss is  32.84838\n",
      "Epoch is  225  ||  loss is  32.7454\n"
     ]
    },
    {
     "name": "stdout",
     "output_type": "stream",
     "text": [
      "Epoch is  226  ||  loss is  32.642826\n",
      "Epoch is  227  ||  loss is  32.54067\n",
      "Epoch is  228  ||  loss is  32.438915\n",
      "Epoch is  229  ||  loss is  32.33757\n",
      "Epoch is  230  ||  loss is  32.236633\n",
      "Epoch is  231  ||  loss is  32.136097\n",
      "Epoch is  232  ||  loss is  32.035957\n",
      "Epoch is  233  ||  loss is  31.93622\n",
      "Epoch is  234  ||  loss is  31.836887\n",
      "Epoch is  235  ||  loss is  31.73795\n",
      "Epoch is  236  ||  loss is  31.639406\n",
      "Epoch is  237  ||  loss is  31.541254\n",
      "Epoch is  238  ||  loss is  31.443497\n",
      "Epoch is  239  ||  loss is  31.346132\n",
      "Epoch is  240  ||  loss is  31.249153\n",
      "Epoch is  241  ||  loss is  31.152563\n",
      "Epoch is  242  ||  loss is  31.056358\n",
      "Epoch is  243  ||  loss is  30.960539\n",
      "Epoch is  244  ||  loss is  30.865103\n",
      "Epoch is  245  ||  loss is  30.770044\n",
      "Epoch is  246  ||  loss is  30.675375\n",
      "Epoch is  247  ||  loss is  30.581074\n",
      "Epoch is  248  ||  loss is  30.487156\n",
      "Epoch is  249  ||  loss is  30.39361\n",
      "Epoch is  250  ||  loss is  30.300438\n",
      "Epoch is  251  ||  loss is  30.207638\n",
      "Epoch is  252  ||  loss is  30.11521\n",
      "Epoch is  253  ||  loss is  30.023151\n",
      "Epoch is  254  ||  loss is  29.931461\n",
      "Epoch is  255  ||  loss is  29.84014\n",
      "Epoch is  256  ||  loss is  29.749178\n",
      "Epoch is  257  ||  loss is  29.65858\n",
      "Epoch is  258  ||  loss is  29.56835\n",
      "Epoch is  259  ||  loss is  29.478474\n",
      "Epoch is  260  ||  loss is  29.388962\n",
      "Epoch is  261  ||  loss is  29.299805\n",
      "Epoch is  262  ||  loss is  29.211004\n",
      "Epoch is  263  ||  loss is  29.122559\n",
      "Epoch is  264  ||  loss is  29.034466\n",
      "Epoch is  265  ||  loss is  28.946724\n",
      "Epoch is  266  ||  loss is  28.859337\n",
      "Epoch is  267  ||  loss is  28.772295\n",
      "Epoch is  268  ||  loss is  28.685604\n",
      "Epoch is  269  ||  loss is  28.59926\n",
      "Epoch is  270  ||  loss is  28.51326\n",
      "Epoch is  271  ||  loss is  28.427603\n",
      "Epoch is  272  ||  loss is  28.342285\n",
      "Epoch is  273  ||  loss is  28.257317\n",
      "Epoch is  274  ||  loss is  28.172682\n",
      "Epoch is  275  ||  loss is  28.088385\n",
      "Epoch is  276  ||  loss is  28.004425\n",
      "Epoch is  277  ||  loss is  27.920801\n",
      "Epoch is  278  ||  loss is  27.837511\n",
      "Epoch is  279  ||  loss is  27.754555\n",
      "Epoch is  280  ||  loss is  27.67193\n",
      "Epoch is  281  ||  loss is  27.589636\n",
      "Epoch is  282  ||  loss is  27.507668\n",
      "Epoch is  283  ||  loss is  27.426027\n",
      "Epoch is  284  ||  loss is  27.344717\n",
      "Epoch is  285  ||  loss is  27.26373\n",
      "Epoch is  286  ||  loss is  27.183067\n",
      "Epoch is  287  ||  loss is  27.102726\n",
      "Epoch is  288  ||  loss is  27.022707\n",
      "Epoch is  289  ||  loss is  26.943005\n",
      "Epoch is  290  ||  loss is  26.863625\n",
      "Epoch is  291  ||  loss is  26.78456\n",
      "Epoch is  292  ||  loss is  26.705807\n",
      "Epoch is  293  ||  loss is  26.627377\n",
      "Epoch is  294  ||  loss is  26.549255\n",
      "Epoch is  295  ||  loss is  26.471447\n",
      "Epoch is  296  ||  loss is  26.393948\n",
      "Epoch is  297  ||  loss is  26.31676\n",
      "Epoch is  298  ||  loss is  26.239883\n",
      "Epoch is  299  ||  loss is  26.163311\n",
      "Epoch is  300  ||  loss is  26.087044\n",
      "Epoch is  301  ||  loss is  26.011086\n",
      "Epoch is  302  ||  loss is  25.935425\n",
      "Epoch is  303  ||  loss is  25.860071\n",
      "Epoch is  304  ||  loss is  25.785017\n",
      "Epoch is  305  ||  loss is  25.71026\n",
      "Epoch is  306  ||  loss is  25.635805\n",
      "Epoch is  307  ||  loss is  25.561646\n",
      "Epoch is  308  ||  loss is  25.487787\n",
      "Epoch is  309  ||  loss is  25.41422\n",
      "Epoch is  310  ||  loss is  25.340946\n",
      "Epoch is  311  ||  loss is  25.26797\n",
      "Epoch is  312  ||  loss is  25.195278\n",
      "Epoch is  313  ||  loss is  25.122885\n",
      "Epoch is  314  ||  loss is  25.050772\n",
      "Epoch is  315  ||  loss is  24.978952\n",
      "Epoch is  316  ||  loss is  24.907421\n",
      "Epoch is  317  ||  loss is  24.836174\n",
      "Epoch is  318  ||  loss is  24.765211\n",
      "Epoch is  319  ||  loss is  24.69453\n",
      "Epoch is  320  ||  loss is  24.624138\n",
      "Epoch is  321  ||  loss is  24.554022\n",
      "Epoch is  322  ||  loss is  24.484186\n",
      "Epoch is  323  ||  loss is  24.414629\n",
      "Epoch is  324  ||  loss is  24.345348\n",
      "Epoch is  325  ||  loss is  24.27635\n",
      "Epoch is  326  ||  loss is  24.207623\n",
      "Epoch is  327  ||  loss is  24.139172\n",
      "Epoch is  328  ||  loss is  24.070993\n",
      "Epoch is  329  ||  loss is  24.00309\n",
      "Epoch is  330  ||  loss is  23.935453\n",
      "Epoch is  331  ||  loss is  23.86809\n",
      "Epoch is  332  ||  loss is  23.800997\n",
      "Epoch is  333  ||  loss is  23.734169\n",
      "Epoch is  334  ||  loss is  23.66761\n",
      "Epoch is  335  ||  loss is  23.601318\n",
      "Epoch is  336  ||  loss is  23.53529\n",
      "Epoch is  337  ||  loss is  23.469522\n",
      "Epoch is  338  ||  loss is  23.404024\n",
      "Epoch is  339  ||  loss is  23.33878\n",
      "Epoch is  340  ||  loss is  23.273802\n",
      "Epoch is  341  ||  loss is  23.209082\n",
      "Epoch is  342  ||  loss is  23.144625\n",
      "Epoch is  343  ||  loss is  23.08042\n",
      "Epoch is  344  ||  loss is  23.016476\n",
      "Epoch is  345  ||  loss is  22.952782\n",
      "Epoch is  346  ||  loss is  22.889345\n",
      "Epoch is  347  ||  loss is  22.826162\n",
      "Epoch is  348  ||  loss is  22.763233\n",
      "Epoch is  349  ||  loss is  22.700554\n",
      "Epoch is  350  ||  loss is  22.638124\n",
      "Epoch is  351  ||  loss is  22.575947\n",
      "Epoch is  352  ||  loss is  22.514017\n",
      "Epoch is  353  ||  loss is  22.452332\n",
      "Epoch is  354  ||  loss is  22.390898\n",
      "Epoch is  355  ||  loss is  22.329708\n",
      "Epoch is  356  ||  loss is  22.268759\n",
      "Epoch is  357  ||  loss is  22.20806\n",
      "Epoch is  358  ||  loss is  22.147598\n",
      "Epoch is  359  ||  loss is  22.087378\n",
      "Epoch is  360  ||  loss is  22.0274\n",
      "Epoch is  361  ||  loss is  21.967657\n",
      "Epoch is  362  ||  loss is  21.90816\n",
      "Epoch is  363  ||  loss is  21.8489\n",
      "Epoch is  364  ||  loss is  21.789877\n",
      "Epoch is  365  ||  loss is  21.731087\n",
      "Epoch is  366  ||  loss is  21.672531\n",
      "Epoch is  367  ||  loss is  21.61421\n",
      "Epoch is  368  ||  loss is  21.55612\n",
      "Epoch is  369  ||  loss is  21.498264\n",
      "Epoch is  370  ||  loss is  21.44064\n",
      "Epoch is  371  ||  loss is  21.383245\n",
      "Epoch is  372  ||  loss is  21.326082\n",
      "Epoch is  373  ||  loss is  21.269148\n",
      "Epoch is  374  ||  loss is  21.212437\n",
      "Epoch is  375  ||  loss is  21.155956\n",
      "Epoch is  376  ||  loss is  21.099699\n",
      "Epoch is  377  ||  loss is  21.043669\n",
      "Epoch is  378  ||  loss is  20.98786\n",
      "Epoch is  379  ||  loss is  20.932278\n",
      "Epoch is  380  ||  loss is  20.876915\n",
      "Epoch is  381  ||  loss is  20.821772\n",
      "Epoch is  382  ||  loss is  20.766853\n",
      "Epoch is  383  ||  loss is  20.71215\n",
      "Epoch is  384  ||  loss is  20.657667\n",
      "Epoch is  385  ||  loss is  20.6034\n",
      "Epoch is  386  ||  loss is  20.54935\n",
      "Epoch is  387  ||  loss is  20.495518\n",
      "Epoch is  388  ||  loss is  20.441902\n",
      "Epoch is  389  ||  loss is  20.388502\n",
      "Epoch is  390  ||  loss is  20.335312\n",
      "Epoch is  391  ||  loss is  20.282335\n",
      "Epoch is  392  ||  loss is  20.22957\n",
      "Epoch is  393  ||  loss is  20.177013\n",
      "Epoch is  394  ||  loss is  20.12467\n",
      "Epoch is  395  ||  loss is  20.072538\n",
      "Epoch is  396  ||  loss is  20.020609\n",
      "Epoch is  397  ||  loss is  19.968891\n",
      "Epoch is  398  ||  loss is  19.917376\n",
      "Epoch is  399  ||  loss is  19.86607\n",
      "Epoch is  400  ||  loss is  19.814966\n",
      "Epoch is  401  ||  loss is  19.764067\n",
      "Epoch is  402  ||  loss is  19.71337\n",
      "Epoch is  403  ||  loss is  19.662882\n",
      "Epoch is  404  ||  loss is  19.612589\n",
      "Epoch is  405  ||  loss is  19.562502\n",
      "Epoch is  406  ||  loss is  19.512615\n",
      "Epoch is  407  ||  loss is  19.462923\n",
      "Epoch is  408  ||  loss is  19.413435\n",
      "Epoch is  409  ||  loss is  19.364141\n",
      "Epoch is  410  ||  loss is  19.315046\n",
      "Epoch is  411  ||  loss is  19.266146\n",
      "Epoch is  412  ||  loss is  19.21744\n",
      "Epoch is  413  ||  loss is  19.16893\n",
      "Epoch is  414  ||  loss is  19.120617\n",
      "Epoch is  415  ||  loss is  19.072493\n",
      "Epoch is  416  ||  loss is  19.02456\n",
      "Epoch is  417  ||  loss is  18.976822\n",
      "Epoch is  418  ||  loss is  18.929274\n",
      "Epoch is  419  ||  loss is  18.881914\n",
      "Epoch is  420  ||  loss is  18.834745\n",
      "Epoch is  421  ||  loss is  18.787767\n",
      "Epoch is  422  ||  loss is  18.740973\n",
      "Epoch is  423  ||  loss is  18.694366\n",
      "Epoch is  424  ||  loss is  18.64795\n",
      "Epoch is  425  ||  loss is  18.601715\n",
      "Epoch is  426  ||  loss is  18.555666\n",
      "Epoch is  427  ||  loss is  18.509802\n",
      "Epoch is  428  ||  loss is  18.46412\n",
      "Epoch is  429  ||  loss is  18.418621\n",
      "Epoch is  430  ||  loss is  18.373304\n",
      "Epoch is  431  ||  loss is  18.328169\n",
      "Epoch is  432  ||  loss is  18.283213\n",
      "Epoch is  433  ||  loss is  18.238436\n",
      "Epoch is  434  ||  loss is  18.193838\n",
      "Epoch is  435  ||  loss is  18.149418\n",
      "Epoch is  436  ||  loss is  18.105175\n",
      "Epoch is  437  ||  loss is  18.06111\n",
      "Epoch is  438  ||  loss is  18.017221\n",
      "Epoch is  439  ||  loss is  17.973507\n",
      "Epoch is  440  ||  loss is  17.929974\n",
      "Epoch is  441  ||  loss is  17.886608\n",
      "Epoch is  442  ||  loss is  17.843414\n",
      "Epoch is  443  ||  loss is  17.800396\n",
      "Epoch is  444  ||  loss is  17.75755\n",
      "Epoch is  445  ||  loss is  17.71487\n",
      "Epoch is  446  ||  loss is  17.672367\n"
     ]
    },
    {
     "name": "stdout",
     "output_type": "stream",
     "text": [
      "Epoch is  447  ||  loss is  17.630032\n",
      "Epoch is  448  ||  loss is  17.587864\n",
      "Epoch is  449  ||  loss is  17.545866\n",
      "Epoch is  450  ||  loss is  17.504038\n",
      "Epoch is  451  ||  loss is  17.462376\n",
      "Epoch is  452  ||  loss is  17.42088\n",
      "Epoch is  453  ||  loss is  17.379549\n",
      "Epoch is  454  ||  loss is  17.338383\n",
      "Epoch is  455  ||  loss is  17.29738\n",
      "Epoch is  456  ||  loss is  17.256544\n",
      "Epoch is  457  ||  loss is  17.215872\n",
      "Epoch is  458  ||  loss is  17.17536\n",
      "Epoch is  459  ||  loss is  17.13501\n",
      "Epoch is  460  ||  loss is  17.094822\n",
      "Epoch is  461  ||  loss is  17.054794\n",
      "Epoch is  462  ||  loss is  17.014927\n",
      "Epoch is  463  ||  loss is  16.975218\n",
      "Epoch is  464  ||  loss is  16.935667\n",
      "Epoch is  465  ||  loss is  16.896278\n",
      "Epoch is  466  ||  loss is  16.857044\n",
      "Epoch is  467  ||  loss is  16.817966\n",
      "Epoch is  468  ||  loss is  16.779045\n",
      "Epoch is  469  ||  loss is  16.740278\n",
      "Epoch is  470  ||  loss is  16.701668\n",
      "Epoch is  471  ||  loss is  16.663208\n",
      "Epoch is  472  ||  loss is  16.624907\n",
      "Epoch is  473  ||  loss is  16.586754\n",
      "Epoch is  474  ||  loss is  16.548756\n",
      "Epoch is  475  ||  loss is  16.51091\n",
      "Epoch is  476  ||  loss is  16.473215\n",
      "Epoch is  477  ||  loss is  16.435673\n",
      "Epoch is  478  ||  loss is  16.39828\n",
      "Epoch is  479  ||  loss is  16.361034\n",
      "Epoch is  480  ||  loss is  16.323938\n",
      "Epoch is  481  ||  loss is  16.286991\n",
      "Epoch is  482  ||  loss is  16.25019\n",
      "Epoch is  483  ||  loss is  16.21354\n",
      "Epoch is  484  ||  loss is  16.177034\n",
      "Epoch is  485  ||  loss is  16.140675\n",
      "Epoch is  486  ||  loss is  16.10446\n",
      "Epoch is  487  ||  loss is  16.068392\n",
      "Epoch is  488  ||  loss is  16.032465\n",
      "Epoch is  489  ||  loss is  15.996686\n",
      "Epoch is  490  ||  loss is  15.961044\n",
      "Epoch is  491  ||  loss is  15.925548\n",
      "Epoch is  492  ||  loss is  15.890193\n",
      "Epoch is  493  ||  loss is  15.854979\n",
      "Epoch is  494  ||  loss is  15.819908\n",
      "Epoch is  495  ||  loss is  15.784975\n",
      "Epoch is  496  ||  loss is  15.750181\n",
      "Epoch is  497  ||  loss is  15.715526\n",
      "Epoch is  498  ||  loss is  15.681008\n",
      "Epoch is  499  ||  loss is  15.646632\n",
      "Epoch is  500  ||  loss is  15.6123905\n",
      "Epoch is  501  ||  loss is  15.578289\n",
      "Epoch is  502  ||  loss is  15.54432\n",
      "Epoch is  503  ||  loss is  15.51049\n",
      "Epoch is  504  ||  loss is  15.476794\n",
      "Epoch is  505  ||  loss is  15.443231\n",
      "Epoch is  506  ||  loss is  15.409803\n",
      "Epoch is  507  ||  loss is  15.376509\n",
      "Epoch is  508  ||  loss is  15.3433485\n",
      "Epoch is  509  ||  loss is  15.310318\n",
      "Epoch is  510  ||  loss is  15.27742\n",
      "Epoch is  511  ||  loss is  15.2446575\n",
      "Epoch is  512  ||  loss is  15.212023\n",
      "Epoch is  513  ||  loss is  15.179522\n",
      "Epoch is  514  ||  loss is  15.147146\n",
      "Epoch is  515  ||  loss is  15.1149\n",
      "Epoch is  516  ||  loss is  15.082785\n",
      "Epoch is  517  ||  loss is  15.0507965\n",
      "Epoch is  518  ||  loss is  15.018938\n",
      "Epoch is  519  ||  loss is  14.9872055\n",
      "Epoch is  520  ||  loss is  14.9556\n",
      "Epoch is  521  ||  loss is  14.924123\n",
      "Epoch is  522  ||  loss is  14.892768\n",
      "Epoch is  523  ||  loss is  14.861541\n",
      "Epoch is  524  ||  loss is  14.830438\n",
      "Epoch is  525  ||  loss is  14.799458\n",
      "Epoch is  526  ||  loss is  14.768603\n",
      "Epoch is  527  ||  loss is  14.737871\n",
      "Epoch is  528  ||  loss is  14.707263\n",
      "Epoch is  529  ||  loss is  14.676776\n",
      "Epoch is  530  ||  loss is  14.646411\n",
      "Epoch is  531  ||  loss is  14.616167\n",
      "Epoch is  532  ||  loss is  14.586047\n",
      "Epoch is  533  ||  loss is  14.556043\n",
      "Epoch is  534  ||  loss is  14.526161\n",
      "Epoch is  535  ||  loss is  14.4964\n",
      "Epoch is  536  ||  loss is  14.466755\n",
      "Epoch is  537  ||  loss is  14.437231\n",
      "Epoch is  538  ||  loss is  14.407823\n",
      "Epoch is  539  ||  loss is  14.378531\n",
      "Epoch is  540  ||  loss is  14.3493595\n",
      "Epoch is  541  ||  loss is  14.320302\n",
      "Epoch is  542  ||  loss is  14.29136\n",
      "Epoch is  543  ||  loss is  14.262537\n",
      "Epoch is  544  ||  loss is  14.233827\n",
      "Epoch is  545  ||  loss is  14.205232\n",
      "Epoch is  546  ||  loss is  14.176751\n",
      "Epoch is  547  ||  loss is  14.148385\n",
      "Epoch is  548  ||  loss is  14.120132\n",
      "Epoch is  549  ||  loss is  14.091991\n",
      "Epoch is  550  ||  loss is  14.063962\n",
      "Epoch is  551  ||  loss is  14.036047\n",
      "Epoch is  552  ||  loss is  14.008242\n",
      "Epoch is  553  ||  loss is  13.980551\n",
      "Epoch is  554  ||  loss is  13.952968\n",
      "Epoch is  555  ||  loss is  13.925494\n",
      "Epoch is  556  ||  loss is  13.89813\n",
      "Epoch is  557  ||  loss is  13.870877\n",
      "Epoch is  558  ||  loss is  13.843734\n",
      "Epoch is  559  ||  loss is  13.816698\n",
      "Epoch is  560  ||  loss is  13.789772\n",
      "Epoch is  561  ||  loss is  13.762951\n",
      "Epoch is  562  ||  loss is  13.736238\n",
      "Epoch is  563  ||  loss is  13.70963\n",
      "Epoch is  564  ||  loss is  13.683129\n",
      "Epoch is  565  ||  loss is  13.656736\n",
      "Epoch is  566  ||  loss is  13.6304455\n",
      "Epoch is  567  ||  loss is  13.604261\n",
      "Epoch is  568  ||  loss is  13.57818\n",
      "Epoch is  569  ||  loss is  13.552206\n",
      "Epoch is  570  ||  loss is  13.526335\n",
      "Epoch is  571  ||  loss is  13.5005665\n",
      "Epoch is  572  ||  loss is  13.474903\n",
      "Epoch is  573  ||  loss is  13.44934\n",
      "Epoch is  574  ||  loss is  13.42388\n",
      "Epoch is  575  ||  loss is  13.398521\n",
      "Epoch is  576  ||  loss is  13.373266\n",
      "Epoch is  577  ||  loss is  13.348109\n",
      "Epoch is  578  ||  loss is  13.323054\n",
      "Epoch is  579  ||  loss is  13.298099\n",
      "Epoch is  580  ||  loss is  13.273244\n",
      "Epoch is  581  ||  loss is  13.248489\n",
      "Epoch is  582  ||  loss is  13.223831\n",
      "Epoch is  583  ||  loss is  13.199271\n",
      "Epoch is  584  ||  loss is  13.174811\n",
      "Epoch is  585  ||  loss is  13.150448\n",
      "Epoch is  586  ||  loss is  13.1261835\n",
      "Epoch is  587  ||  loss is  13.102012\n",
      "Epoch is  588  ||  loss is  13.077941\n",
      "Epoch is  589  ||  loss is  13.0539665\n",
      "Epoch is  590  ||  loss is  13.030086\n",
      "Epoch is  591  ||  loss is  13.006302\n",
      "Epoch is  592  ||  loss is  12.982613\n",
      "Epoch is  593  ||  loss is  12.959017\n",
      "Epoch is  594  ||  loss is  12.935514\n",
      "Epoch is  595  ||  loss is  12.912108\n",
      "Epoch is  596  ||  loss is  12.888793\n",
      "Epoch is  597  ||  loss is  12.865575\n",
      "Epoch is  598  ||  loss is  12.842446\n",
      "Epoch is  599  ||  loss is  12.819411\n",
      "Epoch is  600  ||  loss is  12.796467\n",
      "Epoch is  601  ||  loss is  12.773614\n",
      "Epoch is  602  ||  loss is  12.7508545\n",
      "Epoch is  603  ||  loss is  12.728185\n",
      "Epoch is  604  ||  loss is  12.7056055\n",
      "Epoch is  605  ||  loss is  12.683115\n",
      "Epoch is  606  ||  loss is  12.660717\n",
      "Epoch is  607  ||  loss is  12.638408\n",
      "Epoch is  608  ||  loss is  12.616188\n",
      "Epoch is  609  ||  loss is  12.594059\n",
      "Epoch is  610  ||  loss is  12.572015\n",
      "Epoch is  611  ||  loss is  12.550061\n",
      "Epoch is  612  ||  loss is  12.528194\n",
      "Epoch is  613  ||  loss is  12.506414\n",
      "Epoch is  614  ||  loss is  12.484723\n",
      "Epoch is  615  ||  loss is  12.463116\n",
      "Epoch is  616  ||  loss is  12.441596\n",
      "Epoch is  617  ||  loss is  12.420161\n",
      "Epoch is  618  ||  loss is  12.398815\n",
      "Epoch is  619  ||  loss is  12.377551\n",
      "Epoch is  620  ||  loss is  12.356375\n",
      "Epoch is  621  ||  loss is  12.33528\n",
      "Epoch is  622  ||  loss is  12.314274\n",
      "Epoch is  623  ||  loss is  12.293348\n",
      "Epoch is  624  ||  loss is  12.272508\n",
      "Epoch is  625  ||  loss is  12.251751\n",
      "Epoch is  626  ||  loss is  12.231076\n",
      "Epoch is  627  ||  loss is  12.2104845\n",
      "Epoch is  628  ||  loss is  12.189975\n",
      "Epoch is  629  ||  loss is  12.169547\n",
      "Epoch is  630  ||  loss is  12.149201\n",
      "Epoch is  631  ||  loss is  12.128936\n",
      "Epoch is  632  ||  loss is  12.108752\n",
      "Epoch is  633  ||  loss is  12.088651\n",
      "Epoch is  634  ||  loss is  12.068625\n",
      "Epoch is  635  ||  loss is  12.048683\n",
      "Epoch is  636  ||  loss is  12.028819\n",
      "Epoch is  637  ||  loss is  12.009037\n",
      "Epoch is  638  ||  loss is  11.989331\n",
      "Epoch is  639  ||  loss is  11.969705\n",
      "Epoch is  640  ||  loss is  11.950156\n",
      "Epoch is  641  ||  loss is  11.930686\n",
      "Epoch is  642  ||  loss is  11.911296\n",
      "Epoch is  643  ||  loss is  11.891982\n",
      "Epoch is  644  ||  loss is  11.872744\n",
      "Epoch is  645  ||  loss is  11.853584\n",
      "Epoch is  646  ||  loss is  11.834499\n",
      "Epoch is  647  ||  loss is  11.815492\n",
      "Epoch is  648  ||  loss is  11.796562\n",
      "Epoch is  649  ||  loss is  11.777705\n",
      "Epoch is  650  ||  loss is  11.758925\n",
      "Epoch is  651  ||  loss is  11.74022\n",
      "Epoch is  652  ||  loss is  11.72159\n",
      "Epoch is  653  ||  loss is  11.703033\n",
      "Epoch is  654  ||  loss is  11.684553\n",
      "Epoch is  655  ||  loss is  11.666144\n",
      "Epoch is  656  ||  loss is  11.64781\n",
      "Epoch is  657  ||  loss is  11.62955\n",
      "Epoch is  658  ||  loss is  11.6113615\n",
      "Epoch is  659  ||  loss is  11.593246\n",
      "Epoch is  660  ||  loss is  11.575203\n",
      "Epoch is  661  ||  loss is  11.557232\n",
      "Epoch is  662  ||  loss is  11.539332\n",
      "Epoch is  663  ||  loss is  11.521503\n"
     ]
    },
    {
     "name": "stdout",
     "output_type": "stream",
     "text": [
      "Epoch is  664  ||  loss is  11.503748\n",
      "Epoch is  665  ||  loss is  11.486062\n",
      "Epoch is  666  ||  loss is  11.468446\n",
      "Epoch is  667  ||  loss is  11.450903\n",
      "Epoch is  668  ||  loss is  11.433429\n",
      "Epoch is  669  ||  loss is  11.416024\n",
      "Epoch is  670  ||  loss is  11.398688\n",
      "Epoch is  671  ||  loss is  11.381423\n",
      "Epoch is  672  ||  loss is  11.364226\n",
      "Epoch is  673  ||  loss is  11.347096\n",
      "Epoch is  674  ||  loss is  11.330037\n",
      "Epoch is  675  ||  loss is  11.313046\n",
      "Epoch is  676  ||  loss is  11.296122\n",
      "Epoch is  677  ||  loss is  11.279266\n",
      "Epoch is  678  ||  loss is  11.262477\n",
      "Epoch is  679  ||  loss is  11.245757\n",
      "Epoch is  680  ||  loss is  11.2291\n",
      "Epoch is  681  ||  loss is  11.212511\n",
      "Epoch is  682  ||  loss is  11.195989\n",
      "Epoch is  683  ||  loss is  11.179532\n",
      "Epoch is  684  ||  loss is  11.163143\n",
      "Epoch is  685  ||  loss is  11.146818\n",
      "Epoch is  686  ||  loss is  11.130558\n",
      "Epoch is  687  ||  loss is  11.114363\n",
      "Epoch is  688  ||  loss is  11.098231\n",
      "Epoch is  689  ||  loss is  11.082167\n",
      "Epoch is  690  ||  loss is  11.066165\n",
      "Epoch is  691  ||  loss is  11.05023\n",
      "Epoch is  692  ||  loss is  11.034354\n",
      "Epoch is  693  ||  loss is  11.018544\n",
      "Epoch is  694  ||  loss is  11.002799\n",
      "Epoch is  695  ||  loss is  10.987112\n",
      "Epoch is  696  ||  loss is  10.971491\n",
      "Epoch is  697  ||  loss is  10.955933\n",
      "Epoch is  698  ||  loss is  10.940434\n",
      "Epoch is  699  ||  loss is  10.925\n",
      "Epoch is  700  ||  loss is  10.909627\n",
      "Epoch is  701  ||  loss is  10.894316\n",
      "Epoch is  702  ||  loss is  10.879065\n",
      "Epoch is  703  ||  loss is  10.863874\n",
      "Epoch is  704  ||  loss is  10.848746\n",
      "Epoch is  705  ||  loss is  10.833678\n",
      "Epoch is  706  ||  loss is  10.818668\n",
      "Epoch is  707  ||  loss is  10.8037195\n",
      "Epoch is  708  ||  loss is  10.788833\n",
      "Epoch is  709  ||  loss is  10.774003\n",
      "Epoch is  710  ||  loss is  10.7592325\n",
      "Epoch is  711  ||  loss is  10.74452\n",
      "Epoch is  712  ||  loss is  10.729868\n",
      "Epoch is  713  ||  loss is  10.715275\n",
      "Epoch is  714  ||  loss is  10.700741\n",
      "Epoch is  715  ||  loss is  10.686263\n",
      "Epoch is  716  ||  loss is  10.671845\n",
      "Epoch is  717  ||  loss is  10.657484\n",
      "Epoch is  718  ||  loss is  10.643178\n",
      "Epoch is  719  ||  loss is  10.628931\n",
      "Epoch is  720  ||  loss is  10.61474\n",
      "Epoch is  721  ||  loss is  10.600608\n",
      "Epoch is  722  ||  loss is  10.586532\n",
      "Epoch is  723  ||  loss is  10.57251\n",
      "Epoch is  724  ||  loss is  10.558544\n",
      "Epoch is  725  ||  loss is  10.544637\n",
      "Epoch is  726  ||  loss is  10.530783\n",
      "Epoch is  727  ||  loss is  10.516985\n",
      "Epoch is  728  ||  loss is  10.503242\n",
      "Epoch is  729  ||  loss is  10.489554\n",
      "Epoch is  730  ||  loss is  10.475921\n",
      "Epoch is  731  ||  loss is  10.462343\n",
      "Epoch is  732  ||  loss is  10.448818\n",
      "Epoch is  733  ||  loss is  10.435348\n",
      "Epoch is  734  ||  loss is  10.42193\n",
      "Epoch is  735  ||  loss is  10.408566\n",
      "Epoch is  736  ||  loss is  10.395257\n",
      "Epoch is  737  ||  loss is  10.382001\n",
      "Epoch is  738  ||  loss is  10.368797\n",
      "Epoch is  739  ||  loss is  10.355647\n",
      "Epoch is  740  ||  loss is  10.342548\n",
      "Epoch is  741  ||  loss is  10.329501\n",
      "Epoch is  742  ||  loss is  10.316509\n",
      "Epoch is  743  ||  loss is  10.303567\n",
      "Epoch is  744  ||  loss is  10.290678\n",
      "Epoch is  745  ||  loss is  10.27784\n",
      "Epoch is  746  ||  loss is  10.265053\n",
      "Epoch is  747  ||  loss is  10.252316\n",
      "Epoch is  748  ||  loss is  10.239632\n",
      "Epoch is  749  ||  loss is  10.226998\n",
      "Epoch is  750  ||  loss is  10.214414\n",
      "Epoch is  751  ||  loss is  10.20188\n",
      "Epoch is  752  ||  loss is  10.189398\n",
      "Epoch is  753  ||  loss is  10.176963\n",
      "Epoch is  754  ||  loss is  10.1645775\n",
      "Epoch is  755  ||  loss is  10.152244\n",
      "Epoch is  756  ||  loss is  10.139959\n",
      "Epoch is  757  ||  loss is  10.127722\n",
      "Epoch is  758  ||  loss is  10.115535\n",
      "Epoch is  759  ||  loss is  10.103397\n",
      "Epoch is  760  ||  loss is  10.091307\n",
      "Epoch is  761  ||  loss is  10.079265\n",
      "Epoch is  762  ||  loss is  10.06727\n",
      "Epoch is  763  ||  loss is  10.055325\n",
      "Epoch is  764  ||  loss is  10.043426\n",
      "Epoch is  765  ||  loss is  10.031577\n",
      "Epoch is  766  ||  loss is  10.019773\n",
      "Epoch is  767  ||  loss is  10.008017\n",
      "Epoch is  768  ||  loss is  9.996307\n",
      "Epoch is  769  ||  loss is  9.984645\n",
      "Epoch is  770  ||  loss is  9.97303\n",
      "Epoch is  771  ||  loss is  9.96146\n",
      "Epoch is  772  ||  loss is  9.949936\n",
      "Epoch is  773  ||  loss is  9.93846\n",
      "Epoch is  774  ||  loss is  9.927029\n",
      "Epoch is  775  ||  loss is  9.915644\n",
      "Epoch is  776  ||  loss is  9.904303\n",
      "Epoch is  777  ||  loss is  9.893007\n",
      "Epoch is  778  ||  loss is  9.881758\n",
      "Epoch is  779  ||  loss is  9.870552\n",
      "Epoch is  780  ||  loss is  9.859392\n",
      "Epoch is  781  ||  loss is  9.848277\n",
      "Epoch is  782  ||  loss is  9.837205\n",
      "Epoch is  783  ||  loss is  9.826179\n",
      "Epoch is  784  ||  loss is  9.815195\n",
      "Epoch is  785  ||  loss is  9.8042555\n",
      "Epoch is  786  ||  loss is  9.793361\n",
      "Epoch is  787  ||  loss is  9.782509\n",
      "Epoch is  788  ||  loss is  9.7717\n",
      "Epoch is  789  ||  loss is  9.760937\n",
      "Epoch is  790  ||  loss is  9.750215\n",
      "Epoch is  791  ||  loss is  9.739534\n",
      "Epoch is  792  ||  loss is  9.728899\n",
      "Epoch is  793  ||  loss is  9.718304\n",
      "Epoch is  794  ||  loss is  9.707752\n",
      "Epoch is  795  ||  loss is  9.697245\n",
      "Epoch is  796  ||  loss is  9.686776\n",
      "Epoch is  797  ||  loss is  9.676351\n",
      "Epoch is  798  ||  loss is  9.665966\n",
      "Epoch is  799  ||  loss is  9.655623\n",
      "Epoch is  800  ||  loss is  9.645322\n",
      "Epoch is  801  ||  loss is  9.635062\n",
      "Epoch is  802  ||  loss is  9.624843\n",
      "Epoch is  803  ||  loss is  9.614664\n",
      "Epoch is  804  ||  loss is  9.6045265\n",
      "Epoch is  805  ||  loss is  9.594431\n",
      "Epoch is  806  ||  loss is  9.584374\n",
      "Epoch is  807  ||  loss is  9.574358\n",
      "Epoch is  808  ||  loss is  9.564382\n",
      "Epoch is  809  ||  loss is  9.554444\n",
      "Epoch is  810  ||  loss is  9.544548\n",
      "Epoch is  811  ||  loss is  9.534691\n",
      "Epoch is  812  ||  loss is  9.524872\n",
      "Epoch is  813  ||  loss is  9.515093\n",
      "Epoch is  814  ||  loss is  9.505355\n",
      "Epoch is  815  ||  loss is  9.495655\n",
      "Epoch is  816  ||  loss is  9.4859915\n",
      "Epoch is  817  ||  loss is  9.47637\n",
      "Epoch is  818  ||  loss is  9.466785\n",
      "Epoch is  819  ||  loss is  9.457238\n",
      "Epoch is  820  ||  loss is  9.447732\n",
      "Epoch is  821  ||  loss is  9.438261\n",
      "Epoch is  822  ||  loss is  9.428828\n",
      "Epoch is  823  ||  loss is  9.419434\n",
      "Epoch is  824  ||  loss is  9.410075\n",
      "Epoch is  825  ||  loss is  9.400755\n",
      "Epoch is  826  ||  loss is  9.391473\n",
      "Epoch is  827  ||  loss is  9.382229\n",
      "Epoch is  828  ||  loss is  9.373021\n",
      "Epoch is  829  ||  loss is  9.363847\n",
      "Epoch is  830  ||  loss is  9.3547125\n",
      "Epoch is  831  ||  loss is  9.345614\n",
      "Epoch is  832  ||  loss is  9.336552\n",
      "Epoch is  833  ||  loss is  9.327525\n",
      "Epoch is  834  ||  loss is  9.318536\n",
      "Epoch is  835  ||  loss is  9.309582\n",
      "Epoch is  836  ||  loss is  9.300664\n",
      "Epoch is  837  ||  loss is  9.29178\n",
      "Epoch is  838  ||  loss is  9.282934\n",
      "Epoch is  839  ||  loss is  9.274121\n",
      "Epoch is  840  ||  loss is  9.265346\n",
      "Epoch is  841  ||  loss is  9.256605\n",
      "Epoch is  842  ||  loss is  9.247897\n",
      "Epoch is  843  ||  loss is  9.239225\n",
      "Epoch is  844  ||  loss is  9.230588\n",
      "Epoch is  845  ||  loss is  9.221985\n",
      "Epoch is  846  ||  loss is  9.213418\n",
      "Epoch is  847  ||  loss is  9.204884\n",
      "Epoch is  848  ||  loss is  9.196383\n",
      "Epoch is  849  ||  loss is  9.187918\n",
      "Epoch is  850  ||  loss is  9.179485\n",
      "Epoch is  851  ||  loss is  9.171088\n",
      "Epoch is  852  ||  loss is  9.162722\n",
      "Epoch is  853  ||  loss is  9.154389\n",
      "Epoch is  854  ||  loss is  9.1460905\n",
      "Epoch is  855  ||  loss is  9.137825\n",
      "Epoch is  856  ||  loss is  9.129594\n",
      "Epoch is  857  ||  loss is  9.121396\n",
      "Epoch is  858  ||  loss is  9.11323\n",
      "Epoch is  859  ||  loss is  9.105097\n",
      "Epoch is  860  ||  loss is  9.096996\n",
      "Epoch is  861  ||  loss is  9.088926\n",
      "Epoch is  862  ||  loss is  9.080889\n",
      "Epoch is  863  ||  loss is  9.072884\n",
      "Epoch is  864  ||  loss is  9.064911\n",
      "Epoch is  865  ||  loss is  9.056971\n",
      "Epoch is  866  ||  loss is  9.049062\n",
      "Epoch is  867  ||  loss is  9.041185\n",
      "Epoch is  868  ||  loss is  9.033338\n",
      "Epoch is  869  ||  loss is  9.025524\n",
      "Epoch is  870  ||  loss is  9.017741\n",
      "Epoch is  871  ||  loss is  9.00999\n",
      "Epoch is  872  ||  loss is  9.002267\n",
      "Epoch is  873  ||  loss is  8.994576\n",
      "Epoch is  874  ||  loss is  8.986918\n",
      "Epoch is  875  ||  loss is  8.979287\n",
      "Epoch is  876  ||  loss is  8.97169\n",
      "Epoch is  877  ||  loss is  8.964122\n",
      "Epoch is  878  ||  loss is  8.956584\n",
      "Epoch is  879  ||  loss is  8.949075\n",
      "Epoch is  880  ||  loss is  8.941597\n",
      "Epoch is  881  ||  loss is  8.93415\n",
      "Epoch is  882  ||  loss is  8.926731\n",
      "Epoch is  883  ||  loss is  8.919342\n",
      "Epoch is  884  ||  loss is  8.9119835\n",
      "Epoch is  885  ||  loss is  8.904654\n",
      "Epoch is  886  ||  loss is  8.897352\n",
      "Epoch is  887  ||  loss is  8.890081\n",
      "Epoch is  888  ||  loss is  8.882839\n",
      "Epoch is  889  ||  loss is  8.875627\n",
      "Epoch is  890  ||  loss is  8.8684435\n"
     ]
    },
    {
     "name": "stdout",
     "output_type": "stream",
     "text": [
      "Epoch is  891  ||  loss is  8.861287\n",
      "Epoch is  892  ||  loss is  8.85416\n",
      "Epoch is  893  ||  loss is  8.847061\n",
      "Epoch is  894  ||  loss is  8.839991\n",
      "Epoch is  895  ||  loss is  8.83295\n",
      "Epoch is  896  ||  loss is  8.825934\n",
      "Epoch is  897  ||  loss is  8.818949\n",
      "Epoch is  898  ||  loss is  8.811992\n",
      "Epoch is  899  ||  loss is  8.80506\n",
      "Epoch is  900  ||  loss is  8.79816\n",
      "Epoch is  901  ||  loss is  8.791284\n",
      "Epoch is  902  ||  loss is  8.784436\n",
      "Epoch is  903  ||  loss is  8.777617\n",
      "Epoch is  904  ||  loss is  8.770824\n",
      "Epoch is  905  ||  loss is  8.764058\n",
      "Epoch is  906  ||  loss is  8.757319\n",
      "Epoch is  907  ||  loss is  8.750609\n",
      "Epoch is  908  ||  loss is  8.743924\n",
      "Epoch is  909  ||  loss is  8.737266\n",
      "Epoch is  910  ||  loss is  8.730633\n",
      "Epoch is  911  ||  loss is  8.724028\n",
      "Epoch is  912  ||  loss is  8.71745\n",
      "Epoch is  913  ||  loss is  8.710897\n",
      "Epoch is  914  ||  loss is  8.704372\n",
      "Epoch is  915  ||  loss is  8.697871\n",
      "Epoch is  916  ||  loss is  8.691397\n",
      "Epoch is  917  ||  loss is  8.684948\n",
      "Epoch is  918  ||  loss is  8.678526\n",
      "Epoch is  919  ||  loss is  8.672129\n",
      "Epoch is  920  ||  loss is  8.665757\n",
      "Epoch is  921  ||  loss is  8.659411\n",
      "Epoch is  922  ||  loss is  8.6530905\n",
      "Epoch is  923  ||  loss is  8.646795\n",
      "Epoch is  924  ||  loss is  8.640526\n",
      "Epoch is  925  ||  loss is  8.63428\n",
      "Epoch is  926  ||  loss is  8.62806\n",
      "Epoch is  927  ||  loss is  8.621865\n",
      "Epoch is  928  ||  loss is  8.615695\n",
      "Epoch is  929  ||  loss is  8.609549\n",
      "Epoch is  930  ||  loss is  8.603426\n",
      "Epoch is  931  ||  loss is  8.597332\n",
      "Epoch is  932  ||  loss is  8.591258\n",
      "Epoch is  933  ||  loss is  8.58521\n",
      "Epoch is  934  ||  loss is  8.579186\n",
      "Epoch is  935  ||  loss is  8.573186\n",
      "Epoch is  936  ||  loss is  8.567211\n",
      "Epoch is  937  ||  loss is  8.561257\n",
      "Epoch is  938  ||  loss is  8.555329\n",
      "Epoch is  939  ||  loss is  8.549426\n",
      "Epoch is  940  ||  loss is  8.543544\n",
      "Epoch is  941  ||  loss is  8.537686\n",
      "Epoch is  942  ||  loss is  8.531852\n",
      "Epoch is  943  ||  loss is  8.526041\n",
      "Epoch is  944  ||  loss is  8.520254\n",
      "Epoch is  945  ||  loss is  8.514489\n",
      "Epoch is  946  ||  loss is  8.508748\n",
      "Epoch is  947  ||  loss is  8.50303\n",
      "Epoch is  948  ||  loss is  8.497334\n",
      "Epoch is  949  ||  loss is  8.491661\n",
      "Epoch is  950  ||  loss is  8.4860115\n",
      "Epoch is  951  ||  loss is  8.480383\n",
      "Epoch is  952  ||  loss is  8.474777\n",
      "Epoch is  953  ||  loss is  8.469195\n",
      "Epoch is  954  ||  loss is  8.4636345\n",
      "Epoch is  955  ||  loss is  8.458097\n",
      "Epoch is  956  ||  loss is  8.452581\n",
      "Epoch is  957  ||  loss is  8.447086\n",
      "Epoch is  958  ||  loss is  8.441613\n",
      "Epoch is  959  ||  loss is  8.436165\n",
      "Epoch is  960  ||  loss is  8.430736\n",
      "Epoch is  961  ||  loss is  8.42533\n",
      "Epoch is  962  ||  loss is  8.419943\n",
      "Epoch is  963  ||  loss is  8.414578\n",
      "Epoch is  964  ||  loss is  8.409238\n",
      "Epoch is  965  ||  loss is  8.403916\n",
      "Epoch is  966  ||  loss is  8.398617\n",
      "Epoch is  967  ||  loss is  8.393337\n",
      "Epoch is  968  ||  loss is  8.388081\n",
      "Epoch is  969  ||  loss is  8.382843\n",
      "Epoch is  970  ||  loss is  8.377628\n",
      "Epoch is  971  ||  loss is  8.372434\n",
      "Epoch is  972  ||  loss is  8.36726\n",
      "Epoch is  973  ||  loss is  8.362108\n",
      "Epoch is  974  ||  loss is  8.356974\n",
      "Epoch is  975  ||  loss is  8.351862\n",
      "Epoch is  976  ||  loss is  8.34677\n",
      "Epoch is  977  ||  loss is  8.341698\n",
      "Epoch is  978  ||  loss is  8.336647\n",
      "Epoch is  979  ||  loss is  8.331615\n",
      "Epoch is  980  ||  loss is  8.326606\n",
      "Epoch is  981  ||  loss is  8.321615\n",
      "Epoch is  982  ||  loss is  8.316644\n",
      "Epoch is  983  ||  loss is  8.311694\n",
      "Epoch is  984  ||  loss is  8.306763\n",
      "Epoch is  985  ||  loss is  8.30185\n",
      "Epoch is  986  ||  loss is  8.296959\n",
      "Epoch is  987  ||  loss is  8.292087\n",
      "Epoch is  988  ||  loss is  8.287233\n",
      "Epoch is  989  ||  loss is  8.282399\n",
      "Epoch is  990  ||  loss is  8.277585\n",
      "Epoch is  991  ||  loss is  8.272791\n",
      "Epoch is  992  ||  loss is  8.268015\n",
      "Epoch is  993  ||  loss is  8.263258\n",
      "Epoch is  994  ||  loss is  8.25852\n",
      "Epoch is  995  ||  loss is  8.2538\n",
      "Epoch is  996  ||  loss is  8.249102\n",
      "Epoch is  997  ||  loss is  8.24442\n",
      "Epoch is  998  ||  loss is  8.2397585\n",
      "Epoch is  999  ||  loss is  8.235114\n"
     ]
    }
   ],
   "source": [
    "epochs = 1000\n",
    "with tf.Session() as sess:\n",
    "    sess.run(tf.global_variables_initializer())\n",
    "    \n",
    "    global loss_list\n",
    "    loss_list = []\n",
    "    \n",
    "    for i in range(epochs):\n",
    "        sess.run(train, feed_dict = {x : lcn_x, y : lcn_y})\n",
    "        l = sess.run(loss, feed_dict = {x : lcn_x, y : lcn_y})\n",
    "        loss_list.append(l)\n",
    "        print(\"Epoch is \", i, \" || \", \"loss is \", l)"
   ]
  },
  {
   "cell_type": "code",
   "execution_count": 45,
   "metadata": {},
   "outputs": [
    {
     "data": {
      "text/plain": [
       "Text(0, 0.5, 'Error or Loss')"
      ]
     },
     "execution_count": 45,
     "metadata": {},
     "output_type": "execute_result"
    },
    {
     "data": {
      "image/png": "[encoded data removed]",
      "text/plain": [
       "<Figure size 432x288 with 1 Axes>"
      ]
     },
     "metadata": {
      "needs_background": "light"
     },
     "output_type": "display_data"
    }
   ],
   "source": [
    "plt.plot(loss_list, color = 'red', linestyle='dashed', linewidth=2)   # linestyle='dashed', linewidth=2\n",
    "plt.xlabel(\"Epochs\")\n",
    "plt.ylabel(\"Error or Loss\")"
   ]
  },
  {
   "cell_type": "markdown",
   "metadata": {},
   "source": [
    "### Low level api for classification"
   ]
  },
  {
   "cell_type": "code",
   "execution_count": 52,
   "metadata": {},
   "outputs": [],
   "source": [
    "bre_can = pd.read_csv(r\"C:\\Users\\Ashish Kulkarni\\Desktop\\Data Science\\Python\\Programs\\Logistic Regression\\BreastCancer.csv\")\n",
    "bre_can = bre_can.iloc[ : , 2:12]"
   ]
  },
  {
   "cell_type": "code",
   "execution_count": 53,
   "metadata": {},
   "outputs": [
    {
     "data": {
      "text/plain": [
       "Cl.thickness        0\n",
       "Cell.size           0\n",
       "Cell.shape          0\n",
       "Marg.adhesion       0\n",
       "Epith.c.size        0\n",
       "Bare.nuclei        16\n",
       "Bl.cromatin         0\n",
       "Normal.nucleoli     0\n",
       "Mitoses             0\n",
       "Class               0\n",
       "dtype: int64"
      ]
     },
     "execution_count": 53,
     "metadata": {},
     "output_type": "execute_result"
    }
   ],
   "source": [
    "bre_can.isnull().sum()"
   ]
  },
  {
   "cell_type": "code",
   "execution_count": 54,
   "metadata": {},
   "outputs": [],
   "source": [
    "bre_can[\"Bare.nuclei\"] = bre_can[\"Bare.nuclei\"].fillna(bre_can[\"Bare.nuclei\"].mean())"
   ]
  },
  {
   "cell_type": "code",
   "execution_count": 55,
   "metadata": {},
   "outputs": [],
   "source": [
    "bre_can.Class.replace({\"benign\" : 0, \"malignant\" : 1}, inplace = True)"
   ]
  },
  {
   "cell_type": "code",
   "execution_count": 56,
   "metadata": {},
   "outputs": [
    {
     "data": {
      "text/plain": [
       "Cl.thickness       0\n",
       "Cell.size          0\n",
       "Cell.shape         0\n",
       "Marg.adhesion      0\n",
       "Epith.c.size       0\n",
       "Bare.nuclei        0\n",
       "Bl.cromatin        0\n",
       "Normal.nucleoli    0\n",
       "Mitoses            0\n",
       "Class              0\n",
       "dtype: int64"
      ]
     },
     "execution_count": 56,
     "metadata": {},
     "output_type": "execute_result"
    }
   ],
   "source": [
    "bre_can.isnull().sum()"
   ]
  },
  {
   "cell_type": "code",
   "execution_count": 57,
   "metadata": {},
   "outputs": [
    {
     "data": {
      "text/plain": [
       "(699, 10)"
      ]
     },
     "execution_count": 57,
     "metadata": {},
     "output_type": "execute_result"
    }
   ],
   "source": [
    "bre_can.shape"
   ]
  },
  {
   "cell_type": "code",
   "execution_count": 58,
   "metadata": {},
   "outputs": [],
   "source": [
    "x = tf.placeholder(dtype = tf.float32)\n",
    "w1 = tf.Variable(initial_value = tf.random_normal(mean = 0, stddev = .1, shape = [9, 16], dtype = tf.float32))\n",
    "b1 = tf.Variable(initial_value = np.zeros(16), dtype = tf.float32)\n",
    "h1 = tf.sigmoid(tf.matmul(x, w1) + b1)\n",
    "\n",
    "w2 = tf.Variable(initial_value = tf.random_normal(mean = 0, stddev = .1, shape = [16, 2], dtype = tf.float32))\n",
    "b2 = tf.Variable(initial_value = np.zeros(2), dtype = tf.float32)   # here, 2, because y is binary\n",
    "y_hat = tf.sigmoid(tf.matmul(x, w2) + b2)     # calculated value\n",
    "y_hat_sf = tf.nn.softmax(y_hat)"
   ]
  },
  {
   "cell_type": "code",
   "execution_count": 59,
   "metadata": {},
   "outputs": [],
   "source": [
    "# defining the loss\n",
    "# y = tf.placeholder(dtype = tf.int32)\n",
    "# loss = tf.nn.sparse_softmax_cross_entropy_with_logits(labels = y, logits = y_hat)"
   ]
  },
  {
   "cell_type": "code",
   "execution_count": 66,
   "metadata": {},
   "outputs": [],
   "source": [
    "epochs = 40\n",
    "bre_can_x = bre_can.iloc[ : , 0:9 ]\n",
    "bre_can_y = bre_can.iloc[ : , -1 ]"
   ]
  },
  {
   "cell_type": "code",
   "execution_count": 67,
   "metadata": {},
   "outputs": [],
   "source": [
    "bre_can_x = np.array(bre_can_x)\n",
    "bre_can_y = np.array(bre_can_y)"
   ]
  },
  {
   "cell_type": "code",
   "execution_count": 69,
   "metadata": {},
   "outputs": [
    {
     "ename": "InvalidArgumentError",
     "evalue": "In[0] mismatch In[1] shape: 9 vs. 16: [699,9] [16,2] 0 0\n\t [[node MatMul_7 (defined at <ipython-input-58-61f03a42fecb>:8) ]]\n\nErrors may have originated from an input operation.\nInput Source operations connected to node MatMul_7:\n Placeholder_7 (defined at <ipython-input-58-61f03a42fecb>:1)\t\n Variable_14/read (defined at <ipython-input-58-61f03a42fecb>:6)\n\nOriginal stack trace for 'MatMul_7':\n  File \"C:\\Users\\Ashish Kulkarni\\anaconda3\\lib\\runpy.py\", line 193, in _run_module_as_main\n    \"__main__\", mod_spec)\n  File \"C:\\Users\\Ashish Kulkarni\\anaconda3\\lib\\runpy.py\", line 85, in _run_code\n    exec(code, run_globals)\n  File \"C:\\Users\\Ashish Kulkarni\\anaconda3\\lib\\site-packages\\ipykernel_launcher.py\", line 16, in <module>\n    app.launch_new_instance()\n  File \"C:\\Users\\Ashish Kulkarni\\anaconda3\\lib\\site-packages\\traitlets\\config\\application.py\", line 664, in launch_instance\n    app.start()\n  File \"C:\\Users\\Ashish Kulkarni\\anaconda3\\lib\\site-packages\\ipykernel\\kernelapp.py\", line 583, in start\n    self.io_loop.start()\n  File \"C:\\Users\\Ashish Kulkarni\\anaconda3\\lib\\site-packages\\tornado\\platform\\asyncio.py\", line 153, in start\n    self.asyncio_loop.run_forever()\n  File \"C:\\Users\\Ashish Kulkarni\\anaconda3\\lib\\asyncio\\base_events.py\", line 538, in run_forever\n    self._run_once()\n  File \"C:\\Users\\Ashish Kulkarni\\anaconda3\\lib\\asyncio\\base_events.py\", line 1782, in _run_once\n    handle._run()\n  File \"C:\\Users\\Ashish Kulkarni\\anaconda3\\lib\\asyncio\\events.py\", line 88, in _run\n    self._context.run(self._callback, *self._args)\n  File \"C:\\Users\\Ashish Kulkarni\\anaconda3\\lib\\site-packages\\tornado\\ioloop.py\", line 690, in <lambda>\n    lambda f: self._run_callback(functools.partial(callback, future))\n  File \"C:\\Users\\Ashish Kulkarni\\anaconda3\\lib\\site-packages\\tornado\\ioloop.py\", line 743, in _run_callback\n    ret = callback()\n  File \"C:\\Users\\Ashish Kulkarni\\anaconda3\\lib\\site-packages\\tornado\\gen.py\", line 787, in inner\n    self.run()\n  File \"C:\\Users\\Ashish Kulkarni\\anaconda3\\lib\\site-packages\\tornado\\gen.py\", line 748, in run\n    yielded = self.gen.send(value)\n  File \"C:\\Users\\Ashish Kulkarni\\anaconda3\\lib\\site-packages\\ipykernel\\kernelbase.py\", line 361, in process_one\n    yield gen.maybe_future(dispatch(*args))\n  File \"C:\\Users\\Ashish Kulkarni\\anaconda3\\lib\\site-packages\\tornado\\gen.py\", line 209, in wrapper\n    yielded = next(result)\n  File \"C:\\Users\\Ashish Kulkarni\\anaconda3\\lib\\site-packages\\ipykernel\\kernelbase.py\", line 268, in dispatch_shell\n    yield gen.maybe_future(handler(stream, idents, msg))\n  File \"C:\\Users\\Ashish Kulkarni\\anaconda3\\lib\\site-packages\\tornado\\gen.py\", line 209, in wrapper\n    yielded = next(result)\n  File \"C:\\Users\\Ashish Kulkarni\\anaconda3\\lib\\site-packages\\ipykernel\\kernelbase.py\", line 541, in execute_request\n    user_expressions, allow_stdin,\n  File \"C:\\Users\\Ashish Kulkarni\\anaconda3\\lib\\site-packages\\tornado\\gen.py\", line 209, in wrapper\n    yielded = next(result)\n  File \"C:\\Users\\Ashish Kulkarni\\anaconda3\\lib\\site-packages\\ipykernel\\ipkernel.py\", line 300, in do_execute\n    res = shell.run_cell(code, store_history=store_history, silent=silent)\n  File \"C:\\Users\\Ashish Kulkarni\\anaconda3\\lib\\site-packages\\ipykernel\\zmqshell.py\", line 536, in run_cell\n    return super(ZMQInteractiveShell, self).run_cell(*args, **kwargs)\n  File \"C:\\Users\\Ashish Kulkarni\\anaconda3\\lib\\site-packages\\IPython\\core\\interactiveshell.py\", line 2858, in run_cell\n    raw_cell, store_history, silent, shell_futures)\n  File \"C:\\Users\\Ashish Kulkarni\\anaconda3\\lib\\site-packages\\IPython\\core\\interactiveshell.py\", line 2886, in _run_cell\n    return runner(coro)\n  File \"C:\\Users\\Ashish Kulkarni\\anaconda3\\lib\\site-packages\\IPython\\core\\async_helpers.py\", line 68, in _pseudo_sync_runner\n    coro.send(None)\n  File \"C:\\Users\\Ashish Kulkarni\\anaconda3\\lib\\site-packages\\IPython\\core\\interactiveshell.py\", line 3063, in run_cell_async\n    interactivity=interactivity, compiler=compiler, result=result)\n  File \"C:\\Users\\Ashish Kulkarni\\anaconda3\\lib\\site-packages\\IPython\\core\\interactiveshell.py\", line 3254, in run_ast_nodes\n    if (await self.run_code(code, result,  async_=asy)):\n  File \"C:\\Users\\Ashish Kulkarni\\anaconda3\\lib\\site-packages\\IPython\\core\\interactiveshell.py\", line 3331, in run_code\n    exec(code_obj, self.user_global_ns, self.user_ns)\n  File \"<ipython-input-58-61f03a42fecb>\", line 8, in <module>\n    y_hat = tf.sigmoid(tf.matmul(x, w2) + b2)     # calculated value\n  File \"C:\\Users\\Ashish Kulkarni\\anaconda3\\lib\\site-packages\\tensorflow\\python\\util\\dispatch.py\", line 180, in wrapper\n    return target(*args, **kwargs)\n  File \"C:\\Users\\Ashish Kulkarni\\anaconda3\\lib\\site-packages\\tensorflow\\python\\ops\\math_ops.py\", line 2609, in matmul\n    return batch_mat_mul_fn(a, b, adj_x=adjoint_a, adj_y=adjoint_b, name=name)\n  File \"C:\\Users\\Ashish Kulkarni\\anaconda3\\lib\\site-packages\\tensorflow\\python\\ops\\gen_math_ops.py\", line 1676, in batch_mat_mul_v2\n    \"BatchMatMulV2\", x=x, y=y, adj_x=adj_x, adj_y=adj_y, name=name)\n  File \"C:\\Users\\Ashish Kulkarni\\anaconda3\\lib\\site-packages\\tensorflow\\python\\framework\\op_def_library.py\", line 788, in _apply_op_helper\n    op_def=op_def)\n  File \"C:\\Users\\Ashish Kulkarni\\anaconda3\\lib\\site-packages\\tensorflow\\python\\util\\deprecation.py\", line 507, in new_func\n    return func(*args, **kwargs)\n  File \"C:\\Users\\Ashish Kulkarni\\anaconda3\\lib\\site-packages\\tensorflow\\python\\framework\\ops.py\", line 3616, in create_op\n    op_def=op_def)\n  File \"C:\\Users\\Ashish Kulkarni\\anaconda3\\lib\\site-packages\\tensorflow\\python\\framework\\ops.py\", line 2005, in __init__\n    self._traceback = tf_stack.extract_stack()\n",
     "output_type": "error",
     "traceback": [
      "\u001b[1;31m---------------------------------------------------------------------------\u001b[0m",
      "\u001b[1;31mInvalidArgumentError\u001b[0m                      Traceback (most recent call last)",
      "\u001b[1;32m~\\anaconda3\\lib\\site-packages\\tensorflow\\python\\client\\session.py\u001b[0m in \u001b[0;36m_do_call\u001b[1;34m(self, fn, *args)\u001b[0m\n\u001b[0;32m   1355\u001b[0m     \u001b[1;32mtry\u001b[0m\u001b[1;33m:\u001b[0m\u001b[1;33m\u001b[0m\u001b[1;33m\u001b[0m\u001b[0m\n\u001b[1;32m-> 1356\u001b[1;33m       \u001b[1;32mreturn\u001b[0m \u001b[0mfn\u001b[0m\u001b[1;33m(\u001b[0m\u001b[1;33m*\u001b[0m\u001b[0margs\u001b[0m\u001b[1;33m)\u001b[0m\u001b[1;33m\u001b[0m\u001b[1;33m\u001b[0m\u001b[0m\n\u001b[0m\u001b[0;32m   1357\u001b[0m     \u001b[1;32mexcept\u001b[0m \u001b[0merrors\u001b[0m\u001b[1;33m.\u001b[0m\u001b[0mOpError\u001b[0m \u001b[1;32mas\u001b[0m \u001b[0me\u001b[0m\u001b[1;33m:\u001b[0m\u001b[1;33m\u001b[0m\u001b[1;33m\u001b[0m\u001b[0m\n",
      "\u001b[1;32m~\\anaconda3\\lib\\site-packages\\tensorflow\\python\\client\\session.py\u001b[0m in \u001b[0;36m_run_fn\u001b[1;34m(feed_dict, fetch_list, target_list, options, run_metadata)\u001b[0m\n\u001b[0;32m   1340\u001b[0m       return self._call_tf_sessionrun(\n\u001b[1;32m-> 1341\u001b[1;33m           options, feed_dict, fetch_list, target_list, run_metadata)\n\u001b[0m\u001b[0;32m   1342\u001b[0m \u001b[1;33m\u001b[0m\u001b[0m\n",
      "\u001b[1;32m~\\anaconda3\\lib\\site-packages\\tensorflow\\python\\client\\session.py\u001b[0m in \u001b[0;36m_call_tf_sessionrun\u001b[1;34m(self, options, feed_dict, fetch_list, target_list, run_metadata)\u001b[0m\n\u001b[0;32m   1428\u001b[0m         \u001b[0mself\u001b[0m\u001b[1;33m.\u001b[0m\u001b[0m_session\u001b[0m\u001b[1;33m,\u001b[0m \u001b[0moptions\u001b[0m\u001b[1;33m,\u001b[0m \u001b[0mfeed_dict\u001b[0m\u001b[1;33m,\u001b[0m \u001b[0mfetch_list\u001b[0m\u001b[1;33m,\u001b[0m \u001b[0mtarget_list\u001b[0m\u001b[1;33m,\u001b[0m\u001b[1;33m\u001b[0m\u001b[1;33m\u001b[0m\u001b[0m\n\u001b[1;32m-> 1429\u001b[1;33m         run_metadata)\n\u001b[0m\u001b[0;32m   1430\u001b[0m \u001b[1;33m\u001b[0m\u001b[0m\n",
      "\u001b[1;31mInvalidArgumentError\u001b[0m: In[0] mismatch In[1] shape: 9 vs. 16: [699,9] [16,2] 0 0\n\t [[{{node MatMul_7}}]]",
      "\nDuring handling of the above exception, another exception occurred:\n",
      "\u001b[1;31mInvalidArgumentError\u001b[0m                      Traceback (most recent call last)",
      "\u001b[1;32m<ipython-input-69-4bd0c08f1b8c>\u001b[0m in \u001b[0;36m<module>\u001b[1;34m\u001b[0m\n\u001b[0;32m      7\u001b[0m \u001b[0msess\u001b[0m\u001b[1;33m.\u001b[0m\u001b[0mrun\u001b[0m\u001b[1;33m(\u001b[0m\u001b[0mtf\u001b[0m\u001b[1;33m.\u001b[0m\u001b[0mglobal_variables_initializer\u001b[0m\u001b[1;33m(\u001b[0m\u001b[1;33m)\u001b[0m\u001b[1;33m)\u001b[0m\u001b[1;33m\u001b[0m\u001b[1;33m\u001b[0m\u001b[0m\n\u001b[0;32m      8\u001b[0m \u001b[1;32mfor\u001b[0m \u001b[0mi\u001b[0m \u001b[1;32min\u001b[0m \u001b[0mrange\u001b[0m\u001b[1;33m(\u001b[0m\u001b[0mepochs\u001b[0m\u001b[1;33m)\u001b[0m\u001b[1;33m:\u001b[0m\u001b[1;33m\u001b[0m\u001b[1;33m\u001b[0m\u001b[0m\n\u001b[1;32m----> 9\u001b[1;33m     \u001b[0msess\u001b[0m\u001b[1;33m.\u001b[0m\u001b[0mrun\u001b[0m\u001b[1;33m(\u001b[0m\u001b[1;33m[\u001b[0m\u001b[0mtrainer\u001b[0m\u001b[1;33m]\u001b[0m \u001b[1;33m,\u001b[0m \u001b[0mfeed_dict\u001b[0m \u001b[1;33m=\u001b[0m \u001b[1;33m{\u001b[0m\u001b[0mx\u001b[0m\u001b[1;33m:\u001b[0m\u001b[0mbre_can_x\u001b[0m \u001b[1;33m,\u001b[0m \u001b[0my\u001b[0m\u001b[1;33m:\u001b[0m\u001b[0mbre_can_y\u001b[0m\u001b[1;33m}\u001b[0m\u001b[1;33m)\u001b[0m\u001b[1;33m\u001b[0m\u001b[1;33m\u001b[0m\u001b[0m\n\u001b[0m\u001b[0;32m     10\u001b[0m     \u001b[0ml\u001b[0m \u001b[1;33m=\u001b[0m \u001b[0msess\u001b[0m\u001b[1;33m.\u001b[0m\u001b[0mrun\u001b[0m\u001b[1;33m(\u001b[0m\u001b[0mloss\u001b[0m \u001b[1;33m,\u001b[0m \u001b[0mfeed_dict\u001b[0m \u001b[1;33m=\u001b[0m \u001b[1;33m{\u001b[0m\u001b[0mx\u001b[0m\u001b[1;33m:\u001b[0m\u001b[0mbre_can_x\u001b[0m \u001b[1;33m,\u001b[0m \u001b[0my\u001b[0m\u001b[1;33m:\u001b[0m\u001b[0mbre_can_y\u001b[0m\u001b[1;33m}\u001b[0m\u001b[1;33m)\u001b[0m\u001b[1;33m\u001b[0m\u001b[1;33m\u001b[0m\u001b[0m\n\u001b[0;32m     11\u001b[0m     \u001b[0mprint\u001b[0m\u001b[1;33m(\u001b[0m\u001b[1;34m\"Epoch is ..\"\u001b[0m \u001b[1;33m,\u001b[0m\u001b[0mi\u001b[0m\u001b[1;33m,\u001b[0m \u001b[1;34m\"||\"\u001b[0m\u001b[1;33m,\u001b[0m \u001b[1;34m\"loss is \"\u001b[0m\u001b[1;33m,\u001b[0m \u001b[0mnp\u001b[0m\u001b[1;33m.\u001b[0m\u001b[0mmean\u001b[0m\u001b[1;33m(\u001b[0m\u001b[0ml\u001b[0m\u001b[1;33m)\u001b[0m \u001b[1;33m)\u001b[0m\u001b[1;33m\u001b[0m\u001b[1;33m\u001b[0m\u001b[0m\n",
      "\u001b[1;32m~\\anaconda3\\lib\\site-packages\\tensorflow\\python\\client\\session.py\u001b[0m in \u001b[0;36mrun\u001b[1;34m(self, fetches, feed_dict, options, run_metadata)\u001b[0m\n\u001b[0;32m    948\u001b[0m     \u001b[1;32mtry\u001b[0m\u001b[1;33m:\u001b[0m\u001b[1;33m\u001b[0m\u001b[1;33m\u001b[0m\u001b[0m\n\u001b[0;32m    949\u001b[0m       result = self._run(None, fetches, feed_dict, options_ptr,\n\u001b[1;32m--> 950\u001b[1;33m                          run_metadata_ptr)\n\u001b[0m\u001b[0;32m    951\u001b[0m       \u001b[1;32mif\u001b[0m \u001b[0mrun_metadata\u001b[0m\u001b[1;33m:\u001b[0m\u001b[1;33m\u001b[0m\u001b[1;33m\u001b[0m\u001b[0m\n\u001b[0;32m    952\u001b[0m         \u001b[0mproto_data\u001b[0m \u001b[1;33m=\u001b[0m \u001b[0mtf_session\u001b[0m\u001b[1;33m.\u001b[0m\u001b[0mTF_GetBuffer\u001b[0m\u001b[1;33m(\u001b[0m\u001b[0mrun_metadata_ptr\u001b[0m\u001b[1;33m)\u001b[0m\u001b[1;33m\u001b[0m\u001b[1;33m\u001b[0m\u001b[0m\n",
      "\u001b[1;32m~\\anaconda3\\lib\\site-packages\\tensorflow\\python\\client\\session.py\u001b[0m in \u001b[0;36m_run\u001b[1;34m(self, handle, fetches, feed_dict, options, run_metadata)\u001b[0m\n\u001b[0;32m   1171\u001b[0m     \u001b[1;32mif\u001b[0m \u001b[0mfinal_fetches\u001b[0m \u001b[1;32mor\u001b[0m \u001b[0mfinal_targets\u001b[0m \u001b[1;32mor\u001b[0m \u001b[1;33m(\u001b[0m\u001b[0mhandle\u001b[0m \u001b[1;32mand\u001b[0m \u001b[0mfeed_dict_tensor\u001b[0m\u001b[1;33m)\u001b[0m\u001b[1;33m:\u001b[0m\u001b[1;33m\u001b[0m\u001b[1;33m\u001b[0m\u001b[0m\n\u001b[0;32m   1172\u001b[0m       results = self._do_run(handle, final_targets, final_fetches,\n\u001b[1;32m-> 1173\u001b[1;33m                              feed_dict_tensor, options, run_metadata)\n\u001b[0m\u001b[0;32m   1174\u001b[0m     \u001b[1;32melse\u001b[0m\u001b[1;33m:\u001b[0m\u001b[1;33m\u001b[0m\u001b[1;33m\u001b[0m\u001b[0m\n\u001b[0;32m   1175\u001b[0m       \u001b[0mresults\u001b[0m \u001b[1;33m=\u001b[0m \u001b[1;33m[\u001b[0m\u001b[1;33m]\u001b[0m\u001b[1;33m\u001b[0m\u001b[1;33m\u001b[0m\u001b[0m\n",
      "\u001b[1;32m~\\anaconda3\\lib\\site-packages\\tensorflow\\python\\client\\session.py\u001b[0m in \u001b[0;36m_do_run\u001b[1;34m(self, handle, target_list, fetch_list, feed_dict, options, run_metadata)\u001b[0m\n\u001b[0;32m   1348\u001b[0m     \u001b[1;32mif\u001b[0m \u001b[0mhandle\u001b[0m \u001b[1;32mis\u001b[0m \u001b[1;32mNone\u001b[0m\u001b[1;33m:\u001b[0m\u001b[1;33m\u001b[0m\u001b[1;33m\u001b[0m\u001b[0m\n\u001b[0;32m   1349\u001b[0m       return self._do_call(_run_fn, feeds, fetches, targets, options,\n\u001b[1;32m-> 1350\u001b[1;33m                            run_metadata)\n\u001b[0m\u001b[0;32m   1351\u001b[0m     \u001b[1;32melse\u001b[0m\u001b[1;33m:\u001b[0m\u001b[1;33m\u001b[0m\u001b[1;33m\u001b[0m\u001b[0m\n\u001b[0;32m   1352\u001b[0m       \u001b[1;32mreturn\u001b[0m \u001b[0mself\u001b[0m\u001b[1;33m.\u001b[0m\u001b[0m_do_call\u001b[0m\u001b[1;33m(\u001b[0m\u001b[0m_prun_fn\u001b[0m\u001b[1;33m,\u001b[0m \u001b[0mhandle\u001b[0m\u001b[1;33m,\u001b[0m \u001b[0mfeeds\u001b[0m\u001b[1;33m,\u001b[0m \u001b[0mfetches\u001b[0m\u001b[1;33m)\u001b[0m\u001b[1;33m\u001b[0m\u001b[1;33m\u001b[0m\u001b[0m\n",
      "\u001b[1;32m~\\anaconda3\\lib\\site-packages\\tensorflow\\python\\client\\session.py\u001b[0m in \u001b[0;36m_do_call\u001b[1;34m(self, fn, *args)\u001b[0m\n\u001b[0;32m   1368\u001b[0m           \u001b[1;32mpass\u001b[0m\u001b[1;33m\u001b[0m\u001b[1;33m\u001b[0m\u001b[0m\n\u001b[0;32m   1369\u001b[0m       \u001b[0mmessage\u001b[0m \u001b[1;33m=\u001b[0m \u001b[0merror_interpolation\u001b[0m\u001b[1;33m.\u001b[0m\u001b[0minterpolate\u001b[0m\u001b[1;33m(\u001b[0m\u001b[0mmessage\u001b[0m\u001b[1;33m,\u001b[0m \u001b[0mself\u001b[0m\u001b[1;33m.\u001b[0m\u001b[0m_graph\u001b[0m\u001b[1;33m)\u001b[0m\u001b[1;33m\u001b[0m\u001b[1;33m\u001b[0m\u001b[0m\n\u001b[1;32m-> 1370\u001b[1;33m       \u001b[1;32mraise\u001b[0m \u001b[0mtype\u001b[0m\u001b[1;33m(\u001b[0m\u001b[0me\u001b[0m\u001b[1;33m)\u001b[0m\u001b[1;33m(\u001b[0m\u001b[0mnode_def\u001b[0m\u001b[1;33m,\u001b[0m \u001b[0mop\u001b[0m\u001b[1;33m,\u001b[0m \u001b[0mmessage\u001b[0m\u001b[1;33m)\u001b[0m\u001b[1;33m\u001b[0m\u001b[1;33m\u001b[0m\u001b[0m\n\u001b[0m\u001b[0;32m   1371\u001b[0m \u001b[1;33m\u001b[0m\u001b[0m\n\u001b[0;32m   1372\u001b[0m   \u001b[1;32mdef\u001b[0m \u001b[0m_extend_graph\u001b[0m\u001b[1;33m(\u001b[0m\u001b[0mself\u001b[0m\u001b[1;33m)\u001b[0m\u001b[1;33m:\u001b[0m\u001b[1;33m\u001b[0m\u001b[1;33m\u001b[0m\u001b[0m\n",
      "\u001b[1;31mInvalidArgumentError\u001b[0m: In[0] mismatch In[1] shape: 9 vs. 16: [699,9] [16,2] 0 0\n\t [[node MatMul_7 (defined at <ipython-input-58-61f03a42fecb>:8) ]]\n\nErrors may have originated from an input operation.\nInput Source operations connected to node MatMul_7:\n Placeholder_7 (defined at <ipython-input-58-61f03a42fecb>:1)\t\n Variable_14/read (defined at <ipython-input-58-61f03a42fecb>:6)\n\nOriginal stack trace for 'MatMul_7':\n  File \"C:\\Users\\Ashish Kulkarni\\anaconda3\\lib\\runpy.py\", line 193, in _run_module_as_main\n    \"__main__\", mod_spec)\n  File \"C:\\Users\\Ashish Kulkarni\\anaconda3\\lib\\runpy.py\", line 85, in _run_code\n    exec(code, run_globals)\n  File \"C:\\Users\\Ashish Kulkarni\\anaconda3\\lib\\site-packages\\ipykernel_launcher.py\", line 16, in <module>\n    app.launch_new_instance()\n  File \"C:\\Users\\Ashish Kulkarni\\anaconda3\\lib\\site-packages\\traitlets\\config\\application.py\", line 664, in launch_instance\n    app.start()\n  File \"C:\\Users\\Ashish Kulkarni\\anaconda3\\lib\\site-packages\\ipykernel\\kernelapp.py\", line 583, in start\n    self.io_loop.start()\n  File \"C:\\Users\\Ashish Kulkarni\\anaconda3\\lib\\site-packages\\tornado\\platform\\asyncio.py\", line 153, in start\n    self.asyncio_loop.run_forever()\n  File \"C:\\Users\\Ashish Kulkarni\\anaconda3\\lib\\asyncio\\base_events.py\", line 538, in run_forever\n    self._run_once()\n  File \"C:\\Users\\Ashish Kulkarni\\anaconda3\\lib\\asyncio\\base_events.py\", line 1782, in _run_once\n    handle._run()\n  File \"C:\\Users\\Ashish Kulkarni\\anaconda3\\lib\\asyncio\\events.py\", line 88, in _run\n    self._context.run(self._callback, *self._args)\n  File \"C:\\Users\\Ashish Kulkarni\\anaconda3\\lib\\site-packages\\tornado\\ioloop.py\", line 690, in <lambda>\n    lambda f: self._run_callback(functools.partial(callback, future))\n  File \"C:\\Users\\Ashish Kulkarni\\anaconda3\\lib\\site-packages\\tornado\\ioloop.py\", line 743, in _run_callback\n    ret = callback()\n  File \"C:\\Users\\Ashish Kulkarni\\anaconda3\\lib\\site-packages\\tornado\\gen.py\", line 787, in inner\n    self.run()\n  File \"C:\\Users\\Ashish Kulkarni\\anaconda3\\lib\\site-packages\\tornado\\gen.py\", line 748, in run\n    yielded = self.gen.send(value)\n  File \"C:\\Users\\Ashish Kulkarni\\anaconda3\\lib\\site-packages\\ipykernel\\kernelbase.py\", line 361, in process_one\n    yield gen.maybe_future(dispatch(*args))\n  File \"C:\\Users\\Ashish Kulkarni\\anaconda3\\lib\\site-packages\\tornado\\gen.py\", line 209, in wrapper\n    yielded = next(result)\n  File \"C:\\Users\\Ashish Kulkarni\\anaconda3\\lib\\site-packages\\ipykernel\\kernelbase.py\", line 268, in dispatch_shell\n    yield gen.maybe_future(handler(stream, idents, msg))\n  File \"C:\\Users\\Ashish Kulkarni\\anaconda3\\lib\\site-packages\\tornado\\gen.py\", line 209, in wrapper\n    yielded = next(result)\n  File \"C:\\Users\\Ashish Kulkarni\\anaconda3\\lib\\site-packages\\ipykernel\\kernelbase.py\", line 541, in execute_request\n    user_expressions, allow_stdin,\n  File \"C:\\Users\\Ashish Kulkarni\\anaconda3\\lib\\site-packages\\tornado\\gen.py\", line 209, in wrapper\n    yielded = next(result)\n  File \"C:\\Users\\Ashish Kulkarni\\anaconda3\\lib\\site-packages\\ipykernel\\ipkernel.py\", line 300, in do_execute\n    res = shell.run_cell(code, store_history=store_history, silent=silent)\n  File \"C:\\Users\\Ashish Kulkarni\\anaconda3\\lib\\site-packages\\ipykernel\\zmqshell.py\", line 536, in run_cell\n    return super(ZMQInteractiveShell, self).run_cell(*args, **kwargs)\n  File \"C:\\Users\\Ashish Kulkarni\\anaconda3\\lib\\site-packages\\IPython\\core\\interactiveshell.py\", line 2858, in run_cell\n    raw_cell, store_history, silent, shell_futures)\n  File \"C:\\Users\\Ashish Kulkarni\\anaconda3\\lib\\site-packages\\IPython\\core\\interactiveshell.py\", line 2886, in _run_cell\n    return runner(coro)\n  File \"C:\\Users\\Ashish Kulkarni\\anaconda3\\lib\\site-packages\\IPython\\core\\async_helpers.py\", line 68, in _pseudo_sync_runner\n    coro.send(None)\n  File \"C:\\Users\\Ashish Kulkarni\\anaconda3\\lib\\site-packages\\IPython\\core\\interactiveshell.py\", line 3063, in run_cell_async\n    interactivity=interactivity, compiler=compiler, result=result)\n  File \"C:\\Users\\Ashish Kulkarni\\anaconda3\\lib\\site-packages\\IPython\\core\\interactiveshell.py\", line 3254, in run_ast_nodes\n    if (await self.run_code(code, result,  async_=asy)):\n  File \"C:\\Users\\Ashish Kulkarni\\anaconda3\\lib\\site-packages\\IPython\\core\\interactiveshell.py\", line 3331, in run_code\n    exec(code_obj, self.user_global_ns, self.user_ns)\n  File \"<ipython-input-58-61f03a42fecb>\", line 8, in <module>\n    y_hat = tf.sigmoid(tf.matmul(x, w2) + b2)     # calculated value\n  File \"C:\\Users\\Ashish Kulkarni\\anaconda3\\lib\\site-packages\\tensorflow\\python\\util\\dispatch.py\", line 180, in wrapper\n    return target(*args, **kwargs)\n  File \"C:\\Users\\Ashish Kulkarni\\anaconda3\\lib\\site-packages\\tensorflow\\python\\ops\\math_ops.py\", line 2609, in matmul\n    return batch_mat_mul_fn(a, b, adj_x=adjoint_a, adj_y=adjoint_b, name=name)\n  File \"C:\\Users\\Ashish Kulkarni\\anaconda3\\lib\\site-packages\\tensorflow\\python\\ops\\gen_math_ops.py\", line 1676, in batch_mat_mul_v2\n    \"BatchMatMulV2\", x=x, y=y, adj_x=adj_x, adj_y=adj_y, name=name)\n  File \"C:\\Users\\Ashish Kulkarni\\anaconda3\\lib\\site-packages\\tensorflow\\python\\framework\\op_def_library.py\", line 788, in _apply_op_helper\n    op_def=op_def)\n  File \"C:\\Users\\Ashish Kulkarni\\anaconda3\\lib\\site-packages\\tensorflow\\python\\util\\deprecation.py\", line 507, in new_func\n    return func(*args, **kwargs)\n  File \"C:\\Users\\Ashish Kulkarni\\anaconda3\\lib\\site-packages\\tensorflow\\python\\framework\\ops.py\", line 3616, in create_op\n    op_def=op_def)\n  File \"C:\\Users\\Ashish Kulkarni\\anaconda3\\lib\\site-packages\\tensorflow\\python\\framework\\ops.py\", line 2005, in __init__\n    self._traceback = tf_stack.extract_stack()\n"
     ]
    }
   ],
   "source": [
    "y = tf.placeholder(dtype = tf.int32)\n",
    "loss = tf.nn.sparse_softmax_cross_entropy_with_logits( labels = y, logits = y_hat)\n",
    "optim = tf.train.AdamOptimizer(learning_rate = 0.01)\n",
    "trainer = optim.minimize(loss)\n",
    "\n",
    "sess = tf.Session()\n",
    "sess.run(tf.global_variables_initializer())\n",
    "for i in range(epochs):\n",
    "    sess.run([trainer] , feed_dict = {x:bre_can_x , y:bre_can_y})\n",
    "    l = sess.run(loss , feed_dict = {x:bre_can_x , y:bre_can_y})\n",
    "    print(\"Epoch is ..\" ,i, \"||\", \"loss is \", np.mean(l) )"
   ]
  },
  {
   "cell_type": "code",
   "execution_count": 63,
   "metadata": {},
   "outputs": [
    {
     "ename": "InvalidArgumentError",
     "evalue": "In[0] mismatch In[1] shape: 9 vs. 16: [699,9] [16,2] 0 0\n\t [[node MatMul_7 (defined at <ipython-input-58-61f03a42fecb>:8) ]]\n\nErrors may have originated from an input operation.\nInput Source operations connected to node MatMul_7:\n Placeholder_7 (defined at <ipython-input-58-61f03a42fecb>:1)\t\n Variable_14/read (defined at <ipython-input-58-61f03a42fecb>:6)\n\nOriginal stack trace for 'MatMul_7':\n  File \"C:\\Users\\Ashish Kulkarni\\anaconda3\\lib\\runpy.py\", line 193, in _run_module_as_main\n    \"__main__\", mod_spec)\n  File \"C:\\Users\\Ashish Kulkarni\\anaconda3\\lib\\runpy.py\", line 85, in _run_code\n    exec(code, run_globals)\n  File \"C:\\Users\\Ashish Kulkarni\\anaconda3\\lib\\site-packages\\ipykernel_launcher.py\", line 16, in <module>\n    app.launch_new_instance()\n  File \"C:\\Users\\Ashish Kulkarni\\anaconda3\\lib\\site-packages\\traitlets\\config\\application.py\", line 664, in launch_instance\n    app.start()\n  File \"C:\\Users\\Ashish Kulkarni\\anaconda3\\lib\\site-packages\\ipykernel\\kernelapp.py\", line 583, in start\n    self.io_loop.start()\n  File \"C:\\Users\\Ashish Kulkarni\\anaconda3\\lib\\site-packages\\tornado\\platform\\asyncio.py\", line 153, in start\n    self.asyncio_loop.run_forever()\n  File \"C:\\Users\\Ashish Kulkarni\\anaconda3\\lib\\asyncio\\base_events.py\", line 538, in run_forever\n    self._run_once()\n  File \"C:\\Users\\Ashish Kulkarni\\anaconda3\\lib\\asyncio\\base_events.py\", line 1782, in _run_once\n    handle._run()\n  File \"C:\\Users\\Ashish Kulkarni\\anaconda3\\lib\\asyncio\\events.py\", line 88, in _run\n    self._context.run(self._callback, *self._args)\n  File \"C:\\Users\\Ashish Kulkarni\\anaconda3\\lib\\site-packages\\tornado\\ioloop.py\", line 690, in <lambda>\n    lambda f: self._run_callback(functools.partial(callback, future))\n  File \"C:\\Users\\Ashish Kulkarni\\anaconda3\\lib\\site-packages\\tornado\\ioloop.py\", line 743, in _run_callback\n    ret = callback()\n  File \"C:\\Users\\Ashish Kulkarni\\anaconda3\\lib\\site-packages\\tornado\\gen.py\", line 787, in inner\n    self.run()\n  File \"C:\\Users\\Ashish Kulkarni\\anaconda3\\lib\\site-packages\\tornado\\gen.py\", line 748, in run\n    yielded = self.gen.send(value)\n  File \"C:\\Users\\Ashish Kulkarni\\anaconda3\\lib\\site-packages\\ipykernel\\kernelbase.py\", line 361, in process_one\n    yield gen.maybe_future(dispatch(*args))\n  File \"C:\\Users\\Ashish Kulkarni\\anaconda3\\lib\\site-packages\\tornado\\gen.py\", line 209, in wrapper\n    yielded = next(result)\n  File \"C:\\Users\\Ashish Kulkarni\\anaconda3\\lib\\site-packages\\ipykernel\\kernelbase.py\", line 268, in dispatch_shell\n    yield gen.maybe_future(handler(stream, idents, msg))\n  File \"C:\\Users\\Ashish Kulkarni\\anaconda3\\lib\\site-packages\\tornado\\gen.py\", line 209, in wrapper\n    yielded = next(result)\n  File \"C:\\Users\\Ashish Kulkarni\\anaconda3\\lib\\site-packages\\ipykernel\\kernelbase.py\", line 541, in execute_request\n    user_expressions, allow_stdin,\n  File \"C:\\Users\\Ashish Kulkarni\\anaconda3\\lib\\site-packages\\tornado\\gen.py\", line 209, in wrapper\n    yielded = next(result)\n  File \"C:\\Users\\Ashish Kulkarni\\anaconda3\\lib\\site-packages\\ipykernel\\ipkernel.py\", line 300, in do_execute\n    res = shell.run_cell(code, store_history=store_history, silent=silent)\n  File \"C:\\Users\\Ashish Kulkarni\\anaconda3\\lib\\site-packages\\ipykernel\\zmqshell.py\", line 536, in run_cell\n    return super(ZMQInteractiveShell, self).run_cell(*args, **kwargs)\n  File \"C:\\Users\\Ashish Kulkarni\\anaconda3\\lib\\site-packages\\IPython\\core\\interactiveshell.py\", line 2858, in run_cell\n    raw_cell, store_history, silent, shell_futures)\n  File \"C:\\Users\\Ashish Kulkarni\\anaconda3\\lib\\site-packages\\IPython\\core\\interactiveshell.py\", line 2886, in _run_cell\n    return runner(coro)\n  File \"C:\\Users\\Ashish Kulkarni\\anaconda3\\lib\\site-packages\\IPython\\core\\async_helpers.py\", line 68, in _pseudo_sync_runner\n    coro.send(None)\n  File \"C:\\Users\\Ashish Kulkarni\\anaconda3\\lib\\site-packages\\IPython\\core\\interactiveshell.py\", line 3063, in run_cell_async\n    interactivity=interactivity, compiler=compiler, result=result)\n  File \"C:\\Users\\Ashish Kulkarni\\anaconda3\\lib\\site-packages\\IPython\\core\\interactiveshell.py\", line 3254, in run_ast_nodes\n    if (await self.run_code(code, result,  async_=asy)):\n  File \"C:\\Users\\Ashish Kulkarni\\anaconda3\\lib\\site-packages\\IPython\\core\\interactiveshell.py\", line 3331, in run_code\n    exec(code_obj, self.user_global_ns, self.user_ns)\n  File \"<ipython-input-58-61f03a42fecb>\", line 8, in <module>\n    y_hat = tf.sigmoid(tf.matmul(x, w2) + b2)     # calculated value\n  File \"C:\\Users\\Ashish Kulkarni\\anaconda3\\lib\\site-packages\\tensorflow\\python\\util\\dispatch.py\", line 180, in wrapper\n    return target(*args, **kwargs)\n  File \"C:\\Users\\Ashish Kulkarni\\anaconda3\\lib\\site-packages\\tensorflow\\python\\ops\\math_ops.py\", line 2609, in matmul\n    return batch_mat_mul_fn(a, b, adj_x=adjoint_a, adj_y=adjoint_b, name=name)\n  File \"C:\\Users\\Ashish Kulkarni\\anaconda3\\lib\\site-packages\\tensorflow\\python\\ops\\gen_math_ops.py\", line 1676, in batch_mat_mul_v2\n    \"BatchMatMulV2\", x=x, y=y, adj_x=adj_x, adj_y=adj_y, name=name)\n  File \"C:\\Users\\Ashish Kulkarni\\anaconda3\\lib\\site-packages\\tensorflow\\python\\framework\\op_def_library.py\", line 788, in _apply_op_helper\n    op_def=op_def)\n  File \"C:\\Users\\Ashish Kulkarni\\anaconda3\\lib\\site-packages\\tensorflow\\python\\util\\deprecation.py\", line 507, in new_func\n    return func(*args, **kwargs)\n  File \"C:\\Users\\Ashish Kulkarni\\anaconda3\\lib\\site-packages\\tensorflow\\python\\framework\\ops.py\", line 3616, in create_op\n    op_def=op_def)\n  File \"C:\\Users\\Ashish Kulkarni\\anaconda3\\lib\\site-packages\\tensorflow\\python\\framework\\ops.py\", line 2005, in __init__\n    self._traceback = tf_stack.extract_stack()\n",
     "output_type": "error",
     "traceback": [
      "\u001b[1;31m---------------------------------------------------------------------------\u001b[0m",
      "\u001b[1;31mInvalidArgumentError\u001b[0m                      Traceback (most recent call last)",
      "\u001b[1;32m~\\anaconda3\\lib\\site-packages\\tensorflow\\python\\client\\session.py\u001b[0m in \u001b[0;36m_do_call\u001b[1;34m(self, fn, *args)\u001b[0m\n\u001b[0;32m   1355\u001b[0m     \u001b[1;32mtry\u001b[0m\u001b[1;33m:\u001b[0m\u001b[1;33m\u001b[0m\u001b[1;33m\u001b[0m\u001b[0m\n\u001b[1;32m-> 1356\u001b[1;33m       \u001b[1;32mreturn\u001b[0m \u001b[0mfn\u001b[0m\u001b[1;33m(\u001b[0m\u001b[1;33m*\u001b[0m\u001b[0margs\u001b[0m\u001b[1;33m)\u001b[0m\u001b[1;33m\u001b[0m\u001b[1;33m\u001b[0m\u001b[0m\n\u001b[0m\u001b[0;32m   1357\u001b[0m     \u001b[1;32mexcept\u001b[0m \u001b[0merrors\u001b[0m\u001b[1;33m.\u001b[0m\u001b[0mOpError\u001b[0m \u001b[1;32mas\u001b[0m \u001b[0me\u001b[0m\u001b[1;33m:\u001b[0m\u001b[1;33m\u001b[0m\u001b[1;33m\u001b[0m\u001b[0m\n",
      "\u001b[1;32m~\\anaconda3\\lib\\site-packages\\tensorflow\\python\\client\\session.py\u001b[0m in \u001b[0;36m_run_fn\u001b[1;34m(feed_dict, fetch_list, target_list, options, run_metadata)\u001b[0m\n\u001b[0;32m   1340\u001b[0m       return self._call_tf_sessionrun(\n\u001b[1;32m-> 1341\u001b[1;33m           options, feed_dict, fetch_list, target_list, run_metadata)\n\u001b[0m\u001b[0;32m   1342\u001b[0m \u001b[1;33m\u001b[0m\u001b[0m\n",
      "\u001b[1;32m~\\anaconda3\\lib\\site-packages\\tensorflow\\python\\client\\session.py\u001b[0m in \u001b[0;36m_call_tf_sessionrun\u001b[1;34m(self, options, feed_dict, fetch_list, target_list, run_metadata)\u001b[0m\n\u001b[0;32m   1428\u001b[0m         \u001b[0mself\u001b[0m\u001b[1;33m.\u001b[0m\u001b[0m_session\u001b[0m\u001b[1;33m,\u001b[0m \u001b[0moptions\u001b[0m\u001b[1;33m,\u001b[0m \u001b[0mfeed_dict\u001b[0m\u001b[1;33m,\u001b[0m \u001b[0mfetch_list\u001b[0m\u001b[1;33m,\u001b[0m \u001b[0mtarget_list\u001b[0m\u001b[1;33m,\u001b[0m\u001b[1;33m\u001b[0m\u001b[1;33m\u001b[0m\u001b[0m\n\u001b[1;32m-> 1429\u001b[1;33m         run_metadata)\n\u001b[0m\u001b[0;32m   1430\u001b[0m \u001b[1;33m\u001b[0m\u001b[0m\n",
      "\u001b[1;31mInvalidArgumentError\u001b[0m: In[0] mismatch In[1] shape: 9 vs. 16: [699,9] [16,2] 0 0\n\t [[{{node MatMul_7}}]]",
      "\nDuring handling of the above exception, another exception occurred:\n",
      "\u001b[1;31mInvalidArgumentError\u001b[0m                      Traceback (most recent call last)",
      "\u001b[1;32m<ipython-input-63-cb7e667183cf>\u001b[0m in \u001b[0;36m<module>\u001b[1;34m\u001b[0m\n\u001b[1;32m----> 1\u001b[1;33m \u001b[0mpred_can\u001b[0m \u001b[1;33m=\u001b[0m \u001b[0msess\u001b[0m\u001b[1;33m.\u001b[0m\u001b[0mrun\u001b[0m\u001b[1;33m(\u001b[0m\u001b[0my_hat_sf\u001b[0m\u001b[1;33m,\u001b[0m \u001b[0mfeed_dict\u001b[0m \u001b[1;33m=\u001b[0m \u001b[1;33m{\u001b[0m\u001b[0mx\u001b[0m \u001b[1;33m:\u001b[0m \u001b[0mbre_can_x\u001b[0m\u001b[1;33m}\u001b[0m\u001b[1;33m)\u001b[0m\u001b[1;33m\u001b[0m\u001b[1;33m\u001b[0m\u001b[0m\n\u001b[0m\u001b[0;32m      2\u001b[0m \u001b[0mpred_can\u001b[0m\u001b[1;33m\u001b[0m\u001b[1;33m\u001b[0m\u001b[0m\n",
      "\u001b[1;32m~\\anaconda3\\lib\\site-packages\\tensorflow\\python\\client\\session.py\u001b[0m in \u001b[0;36mrun\u001b[1;34m(self, fetches, feed_dict, options, run_metadata)\u001b[0m\n\u001b[0;32m    948\u001b[0m     \u001b[1;32mtry\u001b[0m\u001b[1;33m:\u001b[0m\u001b[1;33m\u001b[0m\u001b[1;33m\u001b[0m\u001b[0m\n\u001b[0;32m    949\u001b[0m       result = self._run(None, fetches, feed_dict, options_ptr,\n\u001b[1;32m--> 950\u001b[1;33m                          run_metadata_ptr)\n\u001b[0m\u001b[0;32m    951\u001b[0m       \u001b[1;32mif\u001b[0m \u001b[0mrun_metadata\u001b[0m\u001b[1;33m:\u001b[0m\u001b[1;33m\u001b[0m\u001b[1;33m\u001b[0m\u001b[0m\n\u001b[0;32m    952\u001b[0m         \u001b[0mproto_data\u001b[0m \u001b[1;33m=\u001b[0m \u001b[0mtf_session\u001b[0m\u001b[1;33m.\u001b[0m\u001b[0mTF_GetBuffer\u001b[0m\u001b[1;33m(\u001b[0m\u001b[0mrun_metadata_ptr\u001b[0m\u001b[1;33m)\u001b[0m\u001b[1;33m\u001b[0m\u001b[1;33m\u001b[0m\u001b[0m\n",
      "\u001b[1;32m~\\anaconda3\\lib\\site-packages\\tensorflow\\python\\client\\session.py\u001b[0m in \u001b[0;36m_run\u001b[1;34m(self, handle, fetches, feed_dict, options, run_metadata)\u001b[0m\n\u001b[0;32m   1171\u001b[0m     \u001b[1;32mif\u001b[0m \u001b[0mfinal_fetches\u001b[0m \u001b[1;32mor\u001b[0m \u001b[0mfinal_targets\u001b[0m \u001b[1;32mor\u001b[0m \u001b[1;33m(\u001b[0m\u001b[0mhandle\u001b[0m \u001b[1;32mand\u001b[0m \u001b[0mfeed_dict_tensor\u001b[0m\u001b[1;33m)\u001b[0m\u001b[1;33m:\u001b[0m\u001b[1;33m\u001b[0m\u001b[1;33m\u001b[0m\u001b[0m\n\u001b[0;32m   1172\u001b[0m       results = self._do_run(handle, final_targets, final_fetches,\n\u001b[1;32m-> 1173\u001b[1;33m                              feed_dict_tensor, options, run_metadata)\n\u001b[0m\u001b[0;32m   1174\u001b[0m     \u001b[1;32melse\u001b[0m\u001b[1;33m:\u001b[0m\u001b[1;33m\u001b[0m\u001b[1;33m\u001b[0m\u001b[0m\n\u001b[0;32m   1175\u001b[0m       \u001b[0mresults\u001b[0m \u001b[1;33m=\u001b[0m \u001b[1;33m[\u001b[0m\u001b[1;33m]\u001b[0m\u001b[1;33m\u001b[0m\u001b[1;33m\u001b[0m\u001b[0m\n",
      "\u001b[1;32m~\\anaconda3\\lib\\site-packages\\tensorflow\\python\\client\\session.py\u001b[0m in \u001b[0;36m_do_run\u001b[1;34m(self, handle, target_list, fetch_list, feed_dict, options, run_metadata)\u001b[0m\n\u001b[0;32m   1348\u001b[0m     \u001b[1;32mif\u001b[0m \u001b[0mhandle\u001b[0m \u001b[1;32mis\u001b[0m \u001b[1;32mNone\u001b[0m\u001b[1;33m:\u001b[0m\u001b[1;33m\u001b[0m\u001b[1;33m\u001b[0m\u001b[0m\n\u001b[0;32m   1349\u001b[0m       return self._do_call(_run_fn, feeds, fetches, targets, options,\n\u001b[1;32m-> 1350\u001b[1;33m                            run_metadata)\n\u001b[0m\u001b[0;32m   1351\u001b[0m     \u001b[1;32melse\u001b[0m\u001b[1;33m:\u001b[0m\u001b[1;33m\u001b[0m\u001b[1;33m\u001b[0m\u001b[0m\n\u001b[0;32m   1352\u001b[0m       \u001b[1;32mreturn\u001b[0m \u001b[0mself\u001b[0m\u001b[1;33m.\u001b[0m\u001b[0m_do_call\u001b[0m\u001b[1;33m(\u001b[0m\u001b[0m_prun_fn\u001b[0m\u001b[1;33m,\u001b[0m \u001b[0mhandle\u001b[0m\u001b[1;33m,\u001b[0m \u001b[0mfeeds\u001b[0m\u001b[1;33m,\u001b[0m \u001b[0mfetches\u001b[0m\u001b[1;33m)\u001b[0m\u001b[1;33m\u001b[0m\u001b[1;33m\u001b[0m\u001b[0m\n",
      "\u001b[1;32m~\\anaconda3\\lib\\site-packages\\tensorflow\\python\\client\\session.py\u001b[0m in \u001b[0;36m_do_call\u001b[1;34m(self, fn, *args)\u001b[0m\n\u001b[0;32m   1368\u001b[0m           \u001b[1;32mpass\u001b[0m\u001b[1;33m\u001b[0m\u001b[1;33m\u001b[0m\u001b[0m\n\u001b[0;32m   1369\u001b[0m       \u001b[0mmessage\u001b[0m \u001b[1;33m=\u001b[0m \u001b[0merror_interpolation\u001b[0m\u001b[1;33m.\u001b[0m\u001b[0minterpolate\u001b[0m\u001b[1;33m(\u001b[0m\u001b[0mmessage\u001b[0m\u001b[1;33m,\u001b[0m \u001b[0mself\u001b[0m\u001b[1;33m.\u001b[0m\u001b[0m_graph\u001b[0m\u001b[1;33m)\u001b[0m\u001b[1;33m\u001b[0m\u001b[1;33m\u001b[0m\u001b[0m\n\u001b[1;32m-> 1370\u001b[1;33m       \u001b[1;32mraise\u001b[0m \u001b[0mtype\u001b[0m\u001b[1;33m(\u001b[0m\u001b[0me\u001b[0m\u001b[1;33m)\u001b[0m\u001b[1;33m(\u001b[0m\u001b[0mnode_def\u001b[0m\u001b[1;33m,\u001b[0m \u001b[0mop\u001b[0m\u001b[1;33m,\u001b[0m \u001b[0mmessage\u001b[0m\u001b[1;33m)\u001b[0m\u001b[1;33m\u001b[0m\u001b[1;33m\u001b[0m\u001b[0m\n\u001b[0m\u001b[0;32m   1371\u001b[0m \u001b[1;33m\u001b[0m\u001b[0m\n\u001b[0;32m   1372\u001b[0m   \u001b[1;32mdef\u001b[0m \u001b[0m_extend_graph\u001b[0m\u001b[1;33m(\u001b[0m\u001b[0mself\u001b[0m\u001b[1;33m)\u001b[0m\u001b[1;33m:\u001b[0m\u001b[1;33m\u001b[0m\u001b[1;33m\u001b[0m\u001b[0m\n",
      "\u001b[1;31mInvalidArgumentError\u001b[0m: In[0] mismatch In[1] shape: 9 vs. 16: [699,9] [16,2] 0 0\n\t [[node MatMul_7 (defined at <ipython-input-58-61f03a42fecb>:8) ]]\n\nErrors may have originated from an input operation.\nInput Source operations connected to node MatMul_7:\n Placeholder_7 (defined at <ipython-input-58-61f03a42fecb>:1)\t\n Variable_14/read (defined at <ipython-input-58-61f03a42fecb>:6)\n\nOriginal stack trace for 'MatMul_7':\n  File \"C:\\Users\\Ashish Kulkarni\\anaconda3\\lib\\runpy.py\", line 193, in _run_module_as_main\n    \"__main__\", mod_spec)\n  File \"C:\\Users\\Ashish Kulkarni\\anaconda3\\lib\\runpy.py\", line 85, in _run_code\n    exec(code, run_globals)\n  File \"C:\\Users\\Ashish Kulkarni\\anaconda3\\lib\\site-packages\\ipykernel_launcher.py\", line 16, in <module>\n    app.launch_new_instance()\n  File \"C:\\Users\\Ashish Kulkarni\\anaconda3\\lib\\site-packages\\traitlets\\config\\application.py\", line 664, in launch_instance\n    app.start()\n  File \"C:\\Users\\Ashish Kulkarni\\anaconda3\\lib\\site-packages\\ipykernel\\kernelapp.py\", line 583, in start\n    self.io_loop.start()\n  File \"C:\\Users\\Ashish Kulkarni\\anaconda3\\lib\\site-packages\\tornado\\platform\\asyncio.py\", line 153, in start\n    self.asyncio_loop.run_forever()\n  File \"C:\\Users\\Ashish Kulkarni\\anaconda3\\lib\\asyncio\\base_events.py\", line 538, in run_forever\n    self._run_once()\n  File \"C:\\Users\\Ashish Kulkarni\\anaconda3\\lib\\asyncio\\base_events.py\", line 1782, in _run_once\n    handle._run()\n  File \"C:\\Users\\Ashish Kulkarni\\anaconda3\\lib\\asyncio\\events.py\", line 88, in _run\n    self._context.run(self._callback, *self._args)\n  File \"C:\\Users\\Ashish Kulkarni\\anaconda3\\lib\\site-packages\\tornado\\ioloop.py\", line 690, in <lambda>\n    lambda f: self._run_callback(functools.partial(callback, future))\n  File \"C:\\Users\\Ashish Kulkarni\\anaconda3\\lib\\site-packages\\tornado\\ioloop.py\", line 743, in _run_callback\n    ret = callback()\n  File \"C:\\Users\\Ashish Kulkarni\\anaconda3\\lib\\site-packages\\tornado\\gen.py\", line 787, in inner\n    self.run()\n  File \"C:\\Users\\Ashish Kulkarni\\anaconda3\\lib\\site-packages\\tornado\\gen.py\", line 748, in run\n    yielded = self.gen.send(value)\n  File \"C:\\Users\\Ashish Kulkarni\\anaconda3\\lib\\site-packages\\ipykernel\\kernelbase.py\", line 361, in process_one\n    yield gen.maybe_future(dispatch(*args))\n  File \"C:\\Users\\Ashish Kulkarni\\anaconda3\\lib\\site-packages\\tornado\\gen.py\", line 209, in wrapper\n    yielded = next(result)\n  File \"C:\\Users\\Ashish Kulkarni\\anaconda3\\lib\\site-packages\\ipykernel\\kernelbase.py\", line 268, in dispatch_shell\n    yield gen.maybe_future(handler(stream, idents, msg))\n  File \"C:\\Users\\Ashish Kulkarni\\anaconda3\\lib\\site-packages\\tornado\\gen.py\", line 209, in wrapper\n    yielded = next(result)\n  File \"C:\\Users\\Ashish Kulkarni\\anaconda3\\lib\\site-packages\\ipykernel\\kernelbase.py\", line 541, in execute_request\n    user_expressions, allow_stdin,\n  File \"C:\\Users\\Ashish Kulkarni\\anaconda3\\lib\\site-packages\\tornado\\gen.py\", line 209, in wrapper\n    yielded = next(result)\n  File \"C:\\Users\\Ashish Kulkarni\\anaconda3\\lib\\site-packages\\ipykernel\\ipkernel.py\", line 300, in do_execute\n    res = shell.run_cell(code, store_history=store_history, silent=silent)\n  File \"C:\\Users\\Ashish Kulkarni\\anaconda3\\lib\\site-packages\\ipykernel\\zmqshell.py\", line 536, in run_cell\n    return super(ZMQInteractiveShell, self).run_cell(*args, **kwargs)\n  File \"C:\\Users\\Ashish Kulkarni\\anaconda3\\lib\\site-packages\\IPython\\core\\interactiveshell.py\", line 2858, in run_cell\n    raw_cell, store_history, silent, shell_futures)\n  File \"C:\\Users\\Ashish Kulkarni\\anaconda3\\lib\\site-packages\\IPython\\core\\interactiveshell.py\", line 2886, in _run_cell\n    return runner(coro)\n  File \"C:\\Users\\Ashish Kulkarni\\anaconda3\\lib\\site-packages\\IPython\\core\\async_helpers.py\", line 68, in _pseudo_sync_runner\n    coro.send(None)\n  File \"C:\\Users\\Ashish Kulkarni\\anaconda3\\lib\\site-packages\\IPython\\core\\interactiveshell.py\", line 3063, in run_cell_async\n    interactivity=interactivity, compiler=compiler, result=result)\n  File \"C:\\Users\\Ashish Kulkarni\\anaconda3\\lib\\site-packages\\IPython\\core\\interactiveshell.py\", line 3254, in run_ast_nodes\n    if (await self.run_code(code, result,  async_=asy)):\n  File \"C:\\Users\\Ashish Kulkarni\\anaconda3\\lib\\site-packages\\IPython\\core\\interactiveshell.py\", line 3331, in run_code\n    exec(code_obj, self.user_global_ns, self.user_ns)\n  File \"<ipython-input-58-61f03a42fecb>\", line 8, in <module>\n    y_hat = tf.sigmoid(tf.matmul(x, w2) + b2)     # calculated value\n  File \"C:\\Users\\Ashish Kulkarni\\anaconda3\\lib\\site-packages\\tensorflow\\python\\util\\dispatch.py\", line 180, in wrapper\n    return target(*args, **kwargs)\n  File \"C:\\Users\\Ashish Kulkarni\\anaconda3\\lib\\site-packages\\tensorflow\\python\\ops\\math_ops.py\", line 2609, in matmul\n    return batch_mat_mul_fn(a, b, adj_x=adjoint_a, adj_y=adjoint_b, name=name)\n  File \"C:\\Users\\Ashish Kulkarni\\anaconda3\\lib\\site-packages\\tensorflow\\python\\ops\\gen_math_ops.py\", line 1676, in batch_mat_mul_v2\n    \"BatchMatMulV2\", x=x, y=y, adj_x=adj_x, adj_y=adj_y, name=name)\n  File \"C:\\Users\\Ashish Kulkarni\\anaconda3\\lib\\site-packages\\tensorflow\\python\\framework\\op_def_library.py\", line 788, in _apply_op_helper\n    op_def=op_def)\n  File \"C:\\Users\\Ashish Kulkarni\\anaconda3\\lib\\site-packages\\tensorflow\\python\\util\\deprecation.py\", line 507, in new_func\n    return func(*args, **kwargs)\n  File \"C:\\Users\\Ashish Kulkarni\\anaconda3\\lib\\site-packages\\tensorflow\\python\\framework\\ops.py\", line 3616, in create_op\n    op_def=op_def)\n  File \"C:\\Users\\Ashish Kulkarni\\anaconda3\\lib\\site-packages\\tensorflow\\python\\framework\\ops.py\", line 2005, in __init__\n    self._traceback = tf_stack.extract_stack()\n"
     ]
    }
   ],
   "source": [
    "pred_can = sess.run(y_hat_sf, feed_dict = {x : bre_can_x})\n",
    "pred_can "
   ]
  },
  {
   "cell_type": "code",
   "execution_count": 64,
   "metadata": {},
   "outputs": [
    {
     "ename": "NameError",
     "evalue": "name 'pred_can' is not defined",
     "output_type": "error",
     "traceback": [
      "\u001b[1;31m---------------------------------------------------------------------------\u001b[0m",
      "\u001b[1;31mNameError\u001b[0m                                 Traceback (most recent call last)",
      "\u001b[1;32m<ipython-input-64-001547bb5efe>\u001b[0m in \u001b[0;36m<module>\u001b[1;34m\u001b[0m\n\u001b[1;32m----> 1\u001b[1;33m \u001b[0mpred_can_categories\u001b[0m \u001b[1;33m=\u001b[0m \u001b[0mnp\u001b[0m\u001b[1;33m.\u001b[0m\u001b[0margmax\u001b[0m\u001b[1;33m(\u001b[0m\u001b[0mpred_can\u001b[0m\u001b[1;33m,\u001b[0m \u001b[0maxis\u001b[0m \u001b[1;33m=\u001b[0m\u001b[1;36m1\u001b[0m\u001b[1;33m)\u001b[0m\u001b[1;33m\u001b[0m\u001b[1;33m\u001b[0m\u001b[0m\n\u001b[0m\u001b[0;32m      2\u001b[0m \u001b[0mpred_can_categories\u001b[0m\u001b[1;33m\u001b[0m\u001b[1;33m\u001b[0m\u001b[0m\n\u001b[0;32m      3\u001b[0m \u001b[1;31m# or create a dataframe\u001b[0m\u001b[1;33m\u001b[0m\u001b[1;33m\u001b[0m\u001b[1;33m\u001b[0m\u001b[0m\n",
      "\u001b[1;31mNameError\u001b[0m: name 'pred_can' is not defined"
     ]
    }
   ],
   "source": [
    "pred_can_categories = np.argmax(pred_can, axis =1)\n",
    "pred_can_categories\n",
    "# or create a dataframe"
   ]
  },
  {
   "cell_type": "code",
   "execution_count": 47,
   "metadata": {},
   "outputs": [
    {
     "data": {
      "text/html": [
       "<div>\n",
       "<style scoped>\n",
       "    .dataframe tbody tr th:only-of-type {\n",
       "        vertical-align: middle;\n",
       "    }\n",
       "\n",
       "    .dataframe tbody tr th {\n",
       "        vertical-align: top;\n",
       "    }\n",
       "\n",
       "    .dataframe thead th {\n",
       "        text-align: right;\n",
       "    }\n",
       "</style>\n",
       "<table border=\"1\" class=\"dataframe\">\n",
       "  <thead>\n",
       "    <tr style=\"text-align: right;\">\n",
       "      <th></th>\n",
       "      <th>Cl.thickness</th>\n",
       "      <th>Cell.size</th>\n",
       "      <th>Cell.shape</th>\n",
       "      <th>Marg.adhesion</th>\n",
       "      <th>Epith.c.size</th>\n",
       "      <th>Bare.nuclei</th>\n",
       "      <th>Bl.cromatin</th>\n",
       "      <th>Normal.nucleoli</th>\n",
       "      <th>Mitoses</th>\n",
       "    </tr>\n",
       "  </thead>\n",
       "  <tbody>\n",
       "    <tr>\n",
       "      <th>0</th>\n",
       "      <td>5</td>\n",
       "      <td>1</td>\n",
       "      <td>1</td>\n",
       "      <td>1</td>\n",
       "      <td>2</td>\n",
       "      <td>1.0</td>\n",
       "      <td>3</td>\n",
       "      <td>1</td>\n",
       "      <td>1</td>\n",
       "    </tr>\n",
       "    <tr>\n",
       "      <th>1</th>\n",
       "      <td>5</td>\n",
       "      <td>4</td>\n",
       "      <td>4</td>\n",
       "      <td>5</td>\n",
       "      <td>7</td>\n",
       "      <td>10.0</td>\n",
       "      <td>3</td>\n",
       "      <td>2</td>\n",
       "      <td>1</td>\n",
       "    </tr>\n",
       "    <tr>\n",
       "      <th>2</th>\n",
       "      <td>3</td>\n",
       "      <td>1</td>\n",
       "      <td>1</td>\n",
       "      <td>1</td>\n",
       "      <td>2</td>\n",
       "      <td>2.0</td>\n",
       "      <td>3</td>\n",
       "      <td>1</td>\n",
       "      <td>1</td>\n",
       "    </tr>\n",
       "    <tr>\n",
       "      <th>3</th>\n",
       "      <td>6</td>\n",
       "      <td>8</td>\n",
       "      <td>8</td>\n",
       "      <td>1</td>\n",
       "      <td>3</td>\n",
       "      <td>4.0</td>\n",
       "      <td>3</td>\n",
       "      <td>7</td>\n",
       "      <td>1</td>\n",
       "    </tr>\n",
       "    <tr>\n",
       "      <th>4</th>\n",
       "      <td>4</td>\n",
       "      <td>1</td>\n",
       "      <td>1</td>\n",
       "      <td>3</td>\n",
       "      <td>2</td>\n",
       "      <td>1.0</td>\n",
       "      <td>3</td>\n",
       "      <td>1</td>\n",
       "      <td>1</td>\n",
       "    </tr>\n",
       "    <tr>\n",
       "      <th>...</th>\n",
       "      <td>...</td>\n",
       "      <td>...</td>\n",
       "      <td>...</td>\n",
       "      <td>...</td>\n",
       "      <td>...</td>\n",
       "      <td>...</td>\n",
       "      <td>...</td>\n",
       "      <td>...</td>\n",
       "      <td>...</td>\n",
       "    </tr>\n",
       "    <tr>\n",
       "      <th>694</th>\n",
       "      <td>3</td>\n",
       "      <td>1</td>\n",
       "      <td>1</td>\n",
       "      <td>1</td>\n",
       "      <td>3</td>\n",
       "      <td>2.0</td>\n",
       "      <td>1</td>\n",
       "      <td>1</td>\n",
       "      <td>1</td>\n",
       "    </tr>\n",
       "    <tr>\n",
       "      <th>695</th>\n",
       "      <td>2</td>\n",
       "      <td>1</td>\n",
       "      <td>1</td>\n",
       "      <td>1</td>\n",
       "      <td>2</td>\n",
       "      <td>1.0</td>\n",
       "      <td>1</td>\n",
       "      <td>1</td>\n",
       "      <td>1</td>\n",
       "    </tr>\n",
       "    <tr>\n",
       "      <th>696</th>\n",
       "      <td>5</td>\n",
       "      <td>10</td>\n",
       "      <td>10</td>\n",
       "      <td>3</td>\n",
       "      <td>7</td>\n",
       "      <td>3.0</td>\n",
       "      <td>8</td>\n",
       "      <td>10</td>\n",
       "      <td>2</td>\n",
       "    </tr>\n",
       "    <tr>\n",
       "      <th>697</th>\n",
       "      <td>4</td>\n",
       "      <td>8</td>\n",
       "      <td>6</td>\n",
       "      <td>4</td>\n",
       "      <td>3</td>\n",
       "      <td>4.0</td>\n",
       "      <td>10</td>\n",
       "      <td>6</td>\n",
       "      <td>1</td>\n",
       "    </tr>\n",
       "    <tr>\n",
       "      <th>698</th>\n",
       "      <td>4</td>\n",
       "      <td>8</td>\n",
       "      <td>8</td>\n",
       "      <td>5</td>\n",
       "      <td>4</td>\n",
       "      <td>5.0</td>\n",
       "      <td>10</td>\n",
       "      <td>4</td>\n",
       "      <td>1</td>\n",
       "    </tr>\n",
       "  </tbody>\n",
       "</table>\n",
       "<p>699 rows × 9 columns</p>\n",
       "</div>"
      ],
      "text/plain": [
       "     Cl.thickness  Cell.size  Cell.shape  Marg.adhesion  Epith.c.size  \\\n",
       "0               5          1           1              1             2   \n",
       "1               5          4           4              5             7   \n",
       "2               3          1           1              1             2   \n",
       "3               6          8           8              1             3   \n",
       "4               4          1           1              3             2   \n",
       "..            ...        ...         ...            ...           ...   \n",
       "694             3          1           1              1             3   \n",
       "695             2          1           1              1             2   \n",
       "696             5         10          10              3             7   \n",
       "697             4          8           6              4             3   \n",
       "698             4          8           8              5             4   \n",
       "\n",
       "     Bare.nuclei  Bl.cromatin  Normal.nucleoli  Mitoses  \n",
       "0            1.0            3                1        1  \n",
       "1           10.0            3                2        1  \n",
       "2            2.0            3                1        1  \n",
       "3            4.0            3                7        1  \n",
       "4            1.0            3                1        1  \n",
       "..           ...          ...              ...      ...  \n",
       "694          2.0            1                1        1  \n",
       "695          1.0            1                1        1  \n",
       "696          3.0            8               10        2  \n",
       "697          4.0           10                6        1  \n",
       "698          5.0           10                4        1  \n",
       "\n",
       "[699 rows x 9 columns]"
      ]
     },
     "execution_count": 47,
     "metadata": {},
     "output_type": "execute_result"
    }
   ],
   "source": []
  },
  {
   "cell_type": "code",
   "execution_count": null,
   "metadata": {},
   "outputs": [],
   "source": []
  }
 ],
 "metadata": {
  "kernelspec": {
   "display_name": "Python 3",
   "language": "python",
   "name": "python3"
  },
  "language_info": {
   "codemirror_mode": {
    "name": "ipython",
    "version": 3
   },
   "file_extension": ".py",
   "mimetype": "text/x-python",
   "name": "python",
   "nbconvert_exporter": "python",
   "pygments_lexer": "ipython3",
   "version": "3.7.6"
  }
 },
 "nbformat": 4,
 "nbformat_minor": 4
}
